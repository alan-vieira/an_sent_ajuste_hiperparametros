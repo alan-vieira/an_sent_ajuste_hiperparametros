{
  "cells": [
    {
      "cell_type": "markdown",
      "metadata": {
        "id": "Ke_mZ6LXs7-Y"
      },
      "source": [
        "# Logistic Regression"
      ]
    },
    {
      "cell_type": "markdown",
      "metadata": {
        "id": "I2C_WkXkESXy"
      },
      "source": [
        "## Estimando o melhor modelo do classificador para o dataset anotado tweetSentBR (sobreamostrado), com vetorizador Tfidf"
      ]
    },
    {
      "cell_type": "markdown",
      "metadata": {
        "id": "oCGXegKGESX8"
      },
      "source": [
        "### Importando bibliotecas"
      ]
    },
    {
      "cell_type": "code",
      "execution_count": 36,
      "metadata": {
        "id": "MNCfayEaESX9"
      },
      "outputs": [],
      "source": [
        "import pandas as pd\n",
        "import numpy as np\n",
        "import matplotlib.pyplot as plt\n",
        "import seaborn as sns"
      ]
    },
    {
      "cell_type": "markdown",
      "metadata": {
        "id": "z9LzMrI5ESX_"
      },
      "source": [
        "### Carregando os dados para treinamento do modelo"
      ]
    },
    {
      "cell_type": "code",
      "execution_count": 2,
      "metadata": {
        "id": "tw-JBjREESYA"
      },
      "outputs": [],
      "source": [
        "# carregando dataset\n",
        "tweets_df = pd.read_csv('')"
      ]
    },
    {
      "cell_type": "code",
      "execution_count": 3,
      "metadata": {
        "colab": {
          "base_uri": "https://localhost:8080/",
          "height": 206
        },
        "id": "oQ-t81gDESYB",
        "outputId": "ef921134-169d-499f-ca08-9ab46d6a7e27"
      },
      "outputs": [
        {
          "data": {
            "text/html": [
              "\n",
              "  <div id=\"df-378a0deb-7f3a-46b6-9d08-81a869d419d1\">\n",
              "    <div class=\"colab-df-container\">\n",
              "      <div>\n",
              "<style scoped>\n",
              "    .dataframe tbody tr th:only-of-type {\n",
              "        vertical-align: middle;\n",
              "    }\n",
              "\n",
              "    .dataframe tbody tr th {\n",
              "        vertical-align: top;\n",
              "    }\n",
              "\n",
              "    .dataframe thead th {\n",
              "        text-align: right;\n",
              "    }\n",
              "</style>\n",
              "<table border=\"1\" class=\"dataframe\">\n",
              "  <thead>\n",
              "    <tr style=\"text-align: right;\">\n",
              "      <th></th>\n",
              "      <th>id</th>\n",
              "      <th>hashtag</th>\n",
              "      <th>votes</th>\n",
              "      <th>hard</th>\n",
              "      <th>sentiment</th>\n",
              "      <th>group</th>\n",
              "      <th>text</th>\n",
              "      <th>repeat</th>\n",
              "    </tr>\n",
              "  </thead>\n",
              "  <tbody>\n",
              "    <tr>\n",
              "      <th>0</th>\n",
              "      <td>863044774588272640</td>\n",
              "      <td>#encontro</td>\n",
              "      <td>[1, 1, 1, 1, 1, 1, 1]</td>\n",
              "      <td>0</td>\n",
              "      <td>1</td>\n",
              "      <td>test</td>\n",
              "      <td>que coisa linda O programa estava mostrando um...</td>\n",
              "      <td>False</td>\n",
              "    </tr>\n",
              "    <tr>\n",
              "      <th>1</th>\n",
              "      <td>865583716088766464</td>\n",
              "      <td>#encontro</td>\n",
              "      <td>[1, 1, 1, 1, 1, 1, 1]</td>\n",
              "      <td>0</td>\n",
              "      <td>1</td>\n",
              "      <td>test</td>\n",
              "      <td>por mais com as irmãs galvão adorei elas</td>\n",
              "      <td>False</td>\n",
              "    </tr>\n",
              "    <tr>\n",
              "      <th>2</th>\n",
              "      <td>865063232201011200</td>\n",
              "      <td>#TheNoite</td>\n",
              "      <td>[1, 0, 1, 1, 1, 0, 0]</td>\n",
              "      <td>2</td>\n",
              "      <td>1</td>\n",
              "      <td>test</td>\n",
              "      <td>mr CATRA USERNAME lançando sua nova música PPK...</td>\n",
              "      <td>False</td>\n",
              "    </tr>\n",
              "    <tr>\n",
              "      <th>3</th>\n",
              "      <td>864668391008763904</td>\n",
              "      <td>#masterchefbr</td>\n",
              "      <td>[0, 0, 0, 0, 0, 0, 0]</td>\n",
              "      <td>0</td>\n",
              "      <td>0</td>\n",
              "      <td>test</td>\n",
              "      <td>quem viu aquela lutadora modela barbuda tatuad...</td>\n",
              "      <td>False</td>\n",
              "    </tr>\n",
              "    <tr>\n",
              "      <th>4</th>\n",
              "      <td>865572794016378880</td>\n",
              "      <td>#encontro</td>\n",
              "      <td>[-1, -1, -1, -1, -1, -1, -1]</td>\n",
              "      <td>0</td>\n",
              "      <td>-1</td>\n",
              "      <td>test</td>\n",
              "      <td>tô passada com esse cara quanta merda pode sai...</td>\n",
              "      <td>False</td>\n",
              "    </tr>\n",
              "  </tbody>\n",
              "</table>\n",
              "</div>\n",
              "      <button class=\"colab-df-convert\" onclick=\"convertToInteractive('df-378a0deb-7f3a-46b6-9d08-81a869d419d1')\"\n",
              "              title=\"Convert this dataframe to an interactive table.\"\n",
              "              style=\"display:none;\">\n",
              "        \n",
              "  <svg xmlns=\"http://www.w3.org/2000/svg\" height=\"24px\"viewBox=\"0 0 24 24\"\n",
              "       width=\"24px\">\n",
              "    <path d=\"M0 0h24v24H0V0z\" fill=\"none\"/>\n",
              "    <path d=\"M18.56 5.44l.94 2.06.94-2.06 2.06-.94-2.06-.94-.94-2.06-.94 2.06-2.06.94zm-11 1L8.5 8.5l.94-2.06 2.06-.94-2.06-.94L8.5 2.5l-.94 2.06-2.06.94zm10 10l.94 2.06.94-2.06 2.06-.94-2.06-.94-.94-2.06-.94 2.06-2.06.94z\"/><path d=\"M17.41 7.96l-1.37-1.37c-.4-.4-.92-.59-1.43-.59-.52 0-1.04.2-1.43.59L10.3 9.45l-7.72 7.72c-.78.78-.78 2.05 0 2.83L4 21.41c.39.39.9.59 1.41.59.51 0 1.02-.2 1.41-.59l7.78-7.78 2.81-2.81c.8-.78.8-2.07 0-2.86zM5.41 20L4 18.59l7.72-7.72 1.47 1.35L5.41 20z\"/>\n",
              "  </svg>\n",
              "      </button>\n",
              "      \n",
              "  <style>\n",
              "    .colab-df-container {\n",
              "      display:flex;\n",
              "      flex-wrap:wrap;\n",
              "      gap: 12px;\n",
              "    }\n",
              "\n",
              "    .colab-df-convert {\n",
              "      background-color: #E8F0FE;\n",
              "      border: none;\n",
              "      border-radius: 50%;\n",
              "      cursor: pointer;\n",
              "      display: none;\n",
              "      fill: #1967D2;\n",
              "      height: 32px;\n",
              "      padding: 0 0 0 0;\n",
              "      width: 32px;\n",
              "    }\n",
              "\n",
              "    .colab-df-convert:hover {\n",
              "      background-color: #E2EBFA;\n",
              "      box-shadow: 0px 1px 2px rgba(60, 64, 67, 0.3), 0px 1px 3px 1px rgba(60, 64, 67, 0.15);\n",
              "      fill: #174EA6;\n",
              "    }\n",
              "\n",
              "    [theme=dark] .colab-df-convert {\n",
              "      background-color: #3B4455;\n",
              "      fill: #D2E3FC;\n",
              "    }\n",
              "\n",
              "    [theme=dark] .colab-df-convert:hover {\n",
              "      background-color: #434B5C;\n",
              "      box-shadow: 0px 1px 3px 1px rgba(0, 0, 0, 0.15);\n",
              "      filter: drop-shadow(0px 1px 2px rgba(0, 0, 0, 0.3));\n",
              "      fill: #FFFFFF;\n",
              "    }\n",
              "  </style>\n",
              "\n",
              "      <script>\n",
              "        const buttonEl =\n",
              "          document.querySelector('#df-378a0deb-7f3a-46b6-9d08-81a869d419d1 button.colab-df-convert');\n",
              "        buttonEl.style.display =\n",
              "          google.colab.kernel.accessAllowed ? 'block' : 'none';\n",
              "\n",
              "        async function convertToInteractive(key) {\n",
              "          const element = document.querySelector('#df-378a0deb-7f3a-46b6-9d08-81a869d419d1');\n",
              "          const dataTable =\n",
              "            await google.colab.kernel.invokeFunction('convertToInteractive',\n",
              "                                                     [key], {});\n",
              "          if (!dataTable) return;\n",
              "\n",
              "          const docLinkHtml = 'Like what you see? Visit the ' +\n",
              "            '<a target=\"_blank\" href=https://colab.research.google.com/notebooks/data_table.ipynb>data table notebook</a>'\n",
              "            + ' to learn more about interactive tables.';\n",
              "          element.innerHTML = '';\n",
              "          dataTable['output_type'] = 'display_data';\n",
              "          await google.colab.output.renderOutput(dataTable, element);\n",
              "          const docLink = document.createElement('div');\n",
              "          docLink.innerHTML = docLinkHtml;\n",
              "          element.appendChild(docLink);\n",
              "        }\n",
              "      </script>\n",
              "    </div>\n",
              "  </div>\n",
              "  "
            ],
            "text/plain": [
              "                   id        hashtag                         votes  hard  \\\n",
              "0  863044774588272640      #encontro         [1, 1, 1, 1, 1, 1, 1]     0   \n",
              "1  865583716088766464      #encontro         [1, 1, 1, 1, 1, 1, 1]     0   \n",
              "2  865063232201011200      #TheNoite         [1, 0, 1, 1, 1, 0, 0]     2   \n",
              "3  864668391008763904  #masterchefbr         [0, 0, 0, 0, 0, 0, 0]     0   \n",
              "4  865572794016378880      #encontro  [-1, -1, -1, -1, -1, -1, -1]     0   \n",
              "\n",
              "  sentiment group                                               text  repeat  \n",
              "0         1  test  que coisa linda O programa estava mostrando um...   False  \n",
              "1         1  test           por mais com as irmãs galvão adorei elas   False  \n",
              "2         1  test  mr CATRA USERNAME lançando sua nova música PPK...   False  \n",
              "3         0  test  quem viu aquela lutadora modela barbuda tatuad...   False  \n",
              "4        -1  test  tô passada com esse cara quanta merda pode sai...   False  "
            ]
          },
          "execution_count": 3,
          "metadata": {},
          "output_type": "execute_result"
        }
      ],
      "source": [
        "tweets_df.head()"
      ]
    },
    {
      "cell_type": "code",
      "execution_count": 4,
      "metadata": {
        "colab": {
          "base_uri": "https://localhost:8080/"
        },
        "id": "xxpMKfG3ESYD",
        "outputId": "ab895069-e5e2-4927-95e1-bd4d39028e1c"
      },
      "outputs": [
        {
          "name": "stdout",
          "output_type": "stream",
          "text": [
            "<class 'pandas.core.frame.DataFrame'>\n",
            "RangeIndex: 15047 entries, 0 to 15046\n",
            "Data columns (total 8 columns):\n",
            " #   Column     Non-Null Count  Dtype \n",
            "---  ------     --------------  ----- \n",
            " 0   id         15047 non-null  int64 \n",
            " 1   hashtag    15047 non-null  object\n",
            " 2   votes      15047 non-null  object\n",
            " 3   hard       15047 non-null  int64 \n",
            " 4   sentiment  15047 non-null  object\n",
            " 5   group      15047 non-null  object\n",
            " 6   text       15047 non-null  object\n",
            " 7   repeat     15047 non-null  bool  \n",
            "dtypes: bool(1), int64(2), object(5)\n",
            "memory usage: 837.7+ KB\n"
          ]
        }
      ],
      "source": [
        "tweets_df.info()"
      ]
    },
    {
      "cell_type": "code",
      "execution_count": 5,
      "metadata": {
        "colab": {
          "base_uri": "https://localhost:8080/",
          "height": 206
        },
        "id": "IkF0VbWbESYF",
        "outputId": "9a15fdcd-6ae1-48bc-faba-1fd918c25cc6"
      },
      "outputs": [
        {
          "data": {
            "text/html": [
              "\n",
              "  <div id=\"df-96322e25-21e6-49c7-a168-6873b310fe3d\">\n",
              "    <div class=\"colab-df-container\">\n",
              "      <div>\n",
              "<style scoped>\n",
              "    .dataframe tbody tr th:only-of-type {\n",
              "        vertical-align: middle;\n",
              "    }\n",
              "\n",
              "    .dataframe tbody tr th {\n",
              "        vertical-align: top;\n",
              "    }\n",
              "\n",
              "    .dataframe thead th {\n",
              "        text-align: right;\n",
              "    }\n",
              "</style>\n",
              "<table border=\"1\" class=\"dataframe\">\n",
              "  <thead>\n",
              "    <tr style=\"text-align: right;\">\n",
              "      <th></th>\n",
              "      <th>id</th>\n",
              "      <th>hashtag</th>\n",
              "      <th>votes</th>\n",
              "      <th>hard</th>\n",
              "      <th>group</th>\n",
              "      <th>text</th>\n",
              "      <th>repeat</th>\n",
              "    </tr>\n",
              "    <tr>\n",
              "      <th>sentiment</th>\n",
              "      <th></th>\n",
              "      <th></th>\n",
              "      <th></th>\n",
              "      <th></th>\n",
              "      <th></th>\n",
              "      <th></th>\n",
              "      <th></th>\n",
              "    </tr>\n",
              "  </thead>\n",
              "  <tbody>\n",
              "    <tr>\n",
              "      <th>-</th>\n",
              "      <td>47</td>\n",
              "      <td>47</td>\n",
              "      <td>47</td>\n",
              "      <td>47</td>\n",
              "      <td>47</td>\n",
              "      <td>47</td>\n",
              "      <td>47</td>\n",
              "    </tr>\n",
              "    <tr>\n",
              "      <th>-1</th>\n",
              "      <td>4426</td>\n",
              "      <td>4426</td>\n",
              "      <td>4426</td>\n",
              "      <td>4426</td>\n",
              "      <td>4426</td>\n",
              "      <td>4426</td>\n",
              "      <td>4426</td>\n",
              "    </tr>\n",
              "    <tr>\n",
              "      <th>0</th>\n",
              "      <td>3926</td>\n",
              "      <td>3926</td>\n",
              "      <td>3926</td>\n",
              "      <td>3926</td>\n",
              "      <td>3926</td>\n",
              "      <td>3926</td>\n",
              "      <td>3926</td>\n",
              "    </tr>\n",
              "    <tr>\n",
              "      <th>1</th>\n",
              "      <td>6648</td>\n",
              "      <td>6648</td>\n",
              "      <td>6648</td>\n",
              "      <td>6648</td>\n",
              "      <td>6648</td>\n",
              "      <td>6648</td>\n",
              "      <td>6648</td>\n",
              "    </tr>\n",
              "  </tbody>\n",
              "</table>\n",
              "</div>\n",
              "      <button class=\"colab-df-convert\" onclick=\"convertToInteractive('df-96322e25-21e6-49c7-a168-6873b310fe3d')\"\n",
              "              title=\"Convert this dataframe to an interactive table.\"\n",
              "              style=\"display:none;\">\n",
              "        \n",
              "  <svg xmlns=\"http://www.w3.org/2000/svg\" height=\"24px\"viewBox=\"0 0 24 24\"\n",
              "       width=\"24px\">\n",
              "    <path d=\"M0 0h24v24H0V0z\" fill=\"none\"/>\n",
              "    <path d=\"M18.56 5.44l.94 2.06.94-2.06 2.06-.94-2.06-.94-.94-2.06-.94 2.06-2.06.94zm-11 1L8.5 8.5l.94-2.06 2.06-.94-2.06-.94L8.5 2.5l-.94 2.06-2.06.94zm10 10l.94 2.06.94-2.06 2.06-.94-2.06-.94-.94-2.06-.94 2.06-2.06.94z\"/><path d=\"M17.41 7.96l-1.37-1.37c-.4-.4-.92-.59-1.43-.59-.52 0-1.04.2-1.43.59L10.3 9.45l-7.72 7.72c-.78.78-.78 2.05 0 2.83L4 21.41c.39.39.9.59 1.41.59.51 0 1.02-.2 1.41-.59l7.78-7.78 2.81-2.81c.8-.78.8-2.07 0-2.86zM5.41 20L4 18.59l7.72-7.72 1.47 1.35L5.41 20z\"/>\n",
              "  </svg>\n",
              "      </button>\n",
              "      \n",
              "  <style>\n",
              "    .colab-df-container {\n",
              "      display:flex;\n",
              "      flex-wrap:wrap;\n",
              "      gap: 12px;\n",
              "    }\n",
              "\n",
              "    .colab-df-convert {\n",
              "      background-color: #E8F0FE;\n",
              "      border: none;\n",
              "      border-radius: 50%;\n",
              "      cursor: pointer;\n",
              "      display: none;\n",
              "      fill: #1967D2;\n",
              "      height: 32px;\n",
              "      padding: 0 0 0 0;\n",
              "      width: 32px;\n",
              "    }\n",
              "\n",
              "    .colab-df-convert:hover {\n",
              "      background-color: #E2EBFA;\n",
              "      box-shadow: 0px 1px 2px rgba(60, 64, 67, 0.3), 0px 1px 3px 1px rgba(60, 64, 67, 0.15);\n",
              "      fill: #174EA6;\n",
              "    }\n",
              "\n",
              "    [theme=dark] .colab-df-convert {\n",
              "      background-color: #3B4455;\n",
              "      fill: #D2E3FC;\n",
              "    }\n",
              "\n",
              "    [theme=dark] .colab-df-convert:hover {\n",
              "      background-color: #434B5C;\n",
              "      box-shadow: 0px 1px 3px 1px rgba(0, 0, 0, 0.15);\n",
              "      filter: drop-shadow(0px 1px 2px rgba(0, 0, 0, 0.3));\n",
              "      fill: #FFFFFF;\n",
              "    }\n",
              "  </style>\n",
              "\n",
              "      <script>\n",
              "        const buttonEl =\n",
              "          document.querySelector('#df-96322e25-21e6-49c7-a168-6873b310fe3d button.colab-df-convert');\n",
              "        buttonEl.style.display =\n",
              "          google.colab.kernel.accessAllowed ? 'block' : 'none';\n",
              "\n",
              "        async function convertToInteractive(key) {\n",
              "          const element = document.querySelector('#df-96322e25-21e6-49c7-a168-6873b310fe3d');\n",
              "          const dataTable =\n",
              "            await google.colab.kernel.invokeFunction('convertToInteractive',\n",
              "                                                     [key], {});\n",
              "          if (!dataTable) return;\n",
              "\n",
              "          const docLinkHtml = 'Like what you see? Visit the ' +\n",
              "            '<a target=\"_blank\" href=https://colab.research.google.com/notebooks/data_table.ipynb>data table notebook</a>'\n",
              "            + ' to learn more about interactive tables.';\n",
              "          element.innerHTML = '';\n",
              "          dataTable['output_type'] = 'display_data';\n",
              "          await google.colab.output.renderOutput(dataTable, element);\n",
              "          const docLink = document.createElement('div');\n",
              "          docLink.innerHTML = docLinkHtml;\n",
              "          element.appendChild(docLink);\n",
              "        }\n",
              "      </script>\n",
              "    </div>\n",
              "  </div>\n",
              "  "
            ],
            "text/plain": [
              "             id  hashtag  votes  hard  group  text  repeat\n",
              "sentiment                                                 \n",
              "-            47       47     47    47     47    47      47\n",
              "-1         4426     4426   4426  4426   4426  4426    4426\n",
              "0          3926     3926   3926  3926   3926  3926    3926\n",
              "1          6648     6648   6648  6648   6648  6648    6648"
            ]
          },
          "execution_count": 5,
          "metadata": {},
          "output_type": "execute_result"
        }
      ],
      "source": [
        "tweets_df.groupby(['sentiment']).count()"
      ]
    },
    {
      "cell_type": "markdown",
      "metadata": {
        "id": "SuRrkEu5ESYG"
      },
      "source": [
        "Como podemos observar, os dados estão desbalanceados e com algumas linhas apresentando a variável sentimento com o caracter traço '-'.\n",
        "\n",
        "Para melhor trabalharmos com os dados, foi decidida a remoção dessas linhas."
      ]
    },
    {
      "cell_type": "code",
      "execution_count": 6,
      "metadata": {
        "id": "YuqNrebDESYG"
      },
      "outputs": [],
      "source": [
        "# removendo as linhas com a variável sentimento como traço '-'\n",
        "indexNames = tweets_df[ tweets_df['sentiment'] == '-' ].index #obtendo o valor para ajudar a remover a linha\n",
        "tweets_df.drop(indexNames , inplace=True) #removendo a linha correspondente ao valor informado"
      ]
    },
    {
      "cell_type": "code",
      "execution_count": 7,
      "metadata": {
        "id": "eGlqmd5ZAC5z"
      },
      "outputs": [],
      "source": [
        "# tranformando valores para adequar a os classificadores\n",
        "tweets_df['sentiment'] = tweets_df['sentiment'].replace(['-1', '0', '1'], [3, 6, 9])\n",
        "tweets_df['sentiment'] = tweets_df['sentiment'].replace([3, 6, 9], [0, 1, 2])"
      ]
    },
    {
      "cell_type": "code",
      "execution_count": 8,
      "metadata": {
        "colab": {
          "base_uri": "https://localhost:8080/",
          "height": 279
        },
        "id": "4Wsoq2w0ESYI",
        "outputId": "a6771b83-b5d7-428f-e574-c734e89d62a4"
      },
      "outputs": [
        {
          "data": {
            "image/png": "[encoded data removed]",
            "text/plain": [
              "<Figure size 432x288 with 1 Axes>"
            ]
          },
          "metadata": {
            "needs_background": "light"
          },
          "output_type": "display_data"
        }
      ],
      "source": [
        "# Visualizando os dados graficamente\n",
        "sns.countplot(x=tweets_df.sentiment)\n",
        "plt.xlabel('class label')\n",
        "plt.ylabel('number of tweets')\n",
        "plt.show()"
      ]
    },
    {
      "cell_type": "code",
      "execution_count": 9,
      "metadata": {
        "colab": {
          "base_uri": "https://localhost:8080/",
          "height": 175
        },
        "id": "2vg_gM91ESYH",
        "outputId": "3b2311c7-d50a-4fe8-9706-51c2b9e31172"
      },
      "outputs": [
        {
          "data": {
            "text/html": [
              "\n",
              "  <div id=\"df-7b985903-11c6-4df3-a894-84d54dbb52b2\">\n",
              "    <div class=\"colab-df-container\">\n",
              "      <div>\n",
              "<style scoped>\n",
              "    .dataframe tbody tr th:only-of-type {\n",
              "        vertical-align: middle;\n",
              "    }\n",
              "\n",
              "    .dataframe tbody tr th {\n",
              "        vertical-align: top;\n",
              "    }\n",
              "\n",
              "    .dataframe thead th {\n",
              "        text-align: right;\n",
              "    }\n",
              "</style>\n",
              "<table border=\"1\" class=\"dataframe\">\n",
              "  <thead>\n",
              "    <tr style=\"text-align: right;\">\n",
              "      <th></th>\n",
              "      <th>id</th>\n",
              "      <th>hashtag</th>\n",
              "      <th>votes</th>\n",
              "      <th>hard</th>\n",
              "      <th>group</th>\n",
              "      <th>text</th>\n",
              "      <th>repeat</th>\n",
              "    </tr>\n",
              "    <tr>\n",
              "      <th>sentiment</th>\n",
              "      <th></th>\n",
              "      <th></th>\n",
              "      <th></th>\n",
              "      <th></th>\n",
              "      <th></th>\n",
              "      <th></th>\n",
              "      <th></th>\n",
              "    </tr>\n",
              "  </thead>\n",
              "  <tbody>\n",
              "    <tr>\n",
              "      <th>0</th>\n",
              "      <td>4426</td>\n",
              "      <td>4426</td>\n",
              "      <td>4426</td>\n",
              "      <td>4426</td>\n",
              "      <td>4426</td>\n",
              "      <td>4426</td>\n",
              "      <td>4426</td>\n",
              "    </tr>\n",
              "    <tr>\n",
              "      <th>1</th>\n",
              "      <td>3926</td>\n",
              "      <td>3926</td>\n",
              "      <td>3926</td>\n",
              "      <td>3926</td>\n",
              "      <td>3926</td>\n",
              "      <td>3926</td>\n",
              "      <td>3926</td>\n",
              "    </tr>\n",
              "    <tr>\n",
              "      <th>2</th>\n",
              "      <td>6648</td>\n",
              "      <td>6648</td>\n",
              "      <td>6648</td>\n",
              "      <td>6648</td>\n",
              "      <td>6648</td>\n",
              "      <td>6648</td>\n",
              "      <td>6648</td>\n",
              "    </tr>\n",
              "  </tbody>\n",
              "</table>\n",
              "</div>\n",
              "      <button class=\"colab-df-convert\" onclick=\"convertToInteractive('df-7b985903-11c6-4df3-a894-84d54dbb52b2')\"\n",
              "              title=\"Convert this dataframe to an interactive table.\"\n",
              "              style=\"display:none;\">\n",
              "        \n",
              "  <svg xmlns=\"http://www.w3.org/2000/svg\" height=\"24px\"viewBox=\"0 0 24 24\"\n",
              "       width=\"24px\">\n",
              "    <path d=\"M0 0h24v24H0V0z\" fill=\"none\"/>\n",
              "    <path d=\"M18.56 5.44l.94 2.06.94-2.06 2.06-.94-2.06-.94-.94-2.06-.94 2.06-2.06.94zm-11 1L8.5 8.5l.94-2.06 2.06-.94-2.06-.94L8.5 2.5l-.94 2.06-2.06.94zm10 10l.94 2.06.94-2.06 2.06-.94-2.06-.94-.94-2.06-.94 2.06-2.06.94z\"/><path d=\"M17.41 7.96l-1.37-1.37c-.4-.4-.92-.59-1.43-.59-.52 0-1.04.2-1.43.59L10.3 9.45l-7.72 7.72c-.78.78-.78 2.05 0 2.83L4 21.41c.39.39.9.59 1.41.59.51 0 1.02-.2 1.41-.59l7.78-7.78 2.81-2.81c.8-.78.8-2.07 0-2.86zM5.41 20L4 18.59l7.72-7.72 1.47 1.35L5.41 20z\"/>\n",
              "  </svg>\n",
              "      </button>\n",
              "      \n",
              "  <style>\n",
              "    .colab-df-container {\n",
              "      display:flex;\n",
              "      flex-wrap:wrap;\n",
              "      gap: 12px;\n",
              "    }\n",
              "\n",
              "    .colab-df-convert {\n",
              "      background-color: #E8F0FE;\n",
              "      border: none;\n",
              "      border-radius: 50%;\n",
              "      cursor: pointer;\n",
              "      display: none;\n",
              "      fill: #1967D2;\n",
              "      height: 32px;\n",
              "      padding: 0 0 0 0;\n",
              "      width: 32px;\n",
              "    }\n",
              "\n",
              "    .colab-df-convert:hover {\n",
              "      background-color: #E2EBFA;\n",
              "      box-shadow: 0px 1px 2px rgba(60, 64, 67, 0.3), 0px 1px 3px 1px rgba(60, 64, 67, 0.15);\n",
              "      fill: #174EA6;\n",
              "    }\n",
              "\n",
              "    [theme=dark] .colab-df-convert {\n",
              "      background-color: #3B4455;\n",
              "      fill: #D2E3FC;\n",
              "    }\n",
              "\n",
              "    [theme=dark] .colab-df-convert:hover {\n",
              "      background-color: #434B5C;\n",
              "      box-shadow: 0px 1px 3px 1px rgba(0, 0, 0, 0.15);\n",
              "      filter: drop-shadow(0px 1px 2px rgba(0, 0, 0, 0.3));\n",
              "      fill: #FFFFFF;\n",
              "    }\n",
              "  </style>\n",
              "\n",
              "      <script>\n",
              "        const buttonEl =\n",
              "          document.querySelector('#df-7b985903-11c6-4df3-a894-84d54dbb52b2 button.colab-df-convert');\n",
              "        buttonEl.style.display =\n",
              "          google.colab.kernel.accessAllowed ? 'block' : 'none';\n",
              "\n",
              "        async function convertToInteractive(key) {\n",
              "          const element = document.querySelector('#df-7b985903-11c6-4df3-a894-84d54dbb52b2');\n",
              "          const dataTable =\n",
              "            await google.colab.kernel.invokeFunction('convertToInteractive',\n",
              "                                                     [key], {});\n",
              "          if (!dataTable) return;\n",
              "\n",
              "          const docLinkHtml = 'Like what you see? Visit the ' +\n",
              "            '<a target=\"_blank\" href=https://colab.research.google.com/notebooks/data_table.ipynb>data table notebook</a>'\n",
              "            + ' to learn more about interactive tables.';\n",
              "          element.innerHTML = '';\n",
              "          dataTable['output_type'] = 'display_data';\n",
              "          await google.colab.output.renderOutput(dataTable, element);\n",
              "          const docLink = document.createElement('div');\n",
              "          docLink.innerHTML = docLinkHtml;\n",
              "          element.appendChild(docLink);\n",
              "        }\n",
              "      </script>\n",
              "    </div>\n",
              "  </div>\n",
              "  "
            ],
            "text/plain": [
              "             id  hashtag  votes  hard  group  text  repeat\n",
              "sentiment                                                 \n",
              "0          4426     4426   4426  4426   4426  4426    4426\n",
              "1          3926     3926   3926  3926   3926  3926    3926\n",
              "2          6648     6648   6648  6648   6648  6648    6648"
            ]
          },
          "execution_count": 9,
          "metadata": {},
          "output_type": "execute_result"
        }
      ],
      "source": [
        "tweets_df.groupby(['sentiment']).count()"
      ]
    },
    {
      "cell_type": "markdown",
      "metadata": {
        "id": "Hgc2u8ACESYI"
      },
      "source": [
        "## Efetuando a limpeza dos dados"
      ]
    },
    {
      "cell_type": "code",
      "execution_count": 10,
      "metadata": {
        "id": "hZ5VH9fxNhN_"
      },
      "outputs": [],
      "source": [
        "# removendo as palavras USERNAME e NUMBER\n",
        "tweets_df['text_clean'] = tweets_df['text'].str.replace('USERNAME', '').str.replace('NUMBER', '')"
      ]
    },
    {
      "cell_type": "code",
      "execution_count": 11,
      "metadata": {
        "colab": {
          "base_uri": "https://localhost:8080/"
        },
        "id": "XoG2I9f2NhN_",
        "outputId": "bd3dd69c-0d98-4078-cd21-f49fd7d77ce4"
      },
      "outputs": [
        {
          "name": "stdout",
          "output_type": "stream",
          "text": [
            "/usr/lib/python3.7/runpy.py:125: RuntimeWarning: 'nltk.downloader' found in sys.modules after import of package 'nltk', but prior to execution of 'nltk.downloader'; this may result in unpredictable behaviour\n",
            "  warn(RuntimeWarning(msg))\n",
            "[nltk_data] Downloading package stopwords to /root/nltk_data...\n",
            "[nltk_data]   Unzipping corpora/stopwords.zip.\n"
          ]
        }
      ],
      "source": [
        "!python -m nltk.downloader stopwords"
      ]
    },
    {
      "cell_type": "code",
      "execution_count": 12,
      "metadata": {
        "id": "zqqoKNrAESYI"
      },
      "outputs": [],
      "source": [
        "# importando a biblioteca de processamento de linguagen natural e a de expreções regulares (regex)\n",
        "import nltk\n",
        "import re\n",
        "\n",
        "# usando as funções stopword e remover os caracteres indesejados\n",
        "def Preprocessing(instancia):\n",
        "    instancia = re.sub(r\"http\\S+\", \"\", instancia).lower() # remove url e tranforma o texto em minusculo\n",
        "    instancia = re.sub(r'[0-9]+', '', instancia) # remove números\n",
        "    instancia = re.sub(r'[^\\w\\s]','', instancia) # remove pontuação\n",
        "    instancia = re.sub('[!#$%^&*()]', '', instancia) #remove caractéres espaciais\n",
        "    stopwords = set(nltk.corpus.stopwords.words('portuguese'))\n",
        "    palavras = [i for i in instancia.split() if not i in stopwords]\n",
        "    return (\" \".join(palavras))"
      ]
    },
    {
      "cell_type": "code",
      "execution_count": 13,
      "metadata": {
        "id": "iras9_2FNhOA"
      },
      "outputs": [],
      "source": [
        "# remover emojis utilizado regex (re)\n",
        "def remove_emoji(string):\n",
        "    emoji_pattern = re.compile(\"[\"\n",
        "                               u\"\\U0001F600-\\U0001F64F\"  # emoticons\n",
        "                               u\"\\U0001F300-\\U0001F5FF\"  # symbols & pictographs\n",
        "                               u\"\\U0001F680-\\U0001F6FF\"  # transport & map symbols\n",
        "                               u\"\\U0001F1E0-\\U0001F1FF\"  # flags (iOS)\n",
        "                               u\"\\U00002500-\\U00002BEF\"  # chinese char\n",
        "                               u\"\\U00002702-\\U000027B0\"\n",
        "                               u\"\\U00002702-\\U000027B0\"\n",
        "                               u\"\\U000024C2-\\U0001F251\"\n",
        "                               u\"\\U0001f926-\\U0001f937\"\n",
        "                               u\"\\U00010000-\\U0010ffff\"\n",
        "                               u\"\\u2640-\\u2642\"\n",
        "                               u\"\\u2600-\\u2B55\"\n",
        "                               u\"\\u200d\"\n",
        "                               u\"\\u23cf\"\n",
        "                               u\"\\u23e9\"\n",
        "                               u\"\\u231a\"\n",
        "                               u\"\\ufe0f\"  # dingbats\n",
        "                               u\"\\u3030\"\n",
        "                               \"]+\", flags=re.UNICODE)\n",
        "    return emoji_pattern.sub(r'', string)"
      ]
    },
    {
      "cell_type": "code",
      "execution_count": 14,
      "metadata": {
        "colab": {
          "base_uri": "https://localhost:8080/",
          "height": 372
        },
        "id": "MBN9guuHESYJ",
        "outputId": "c0a26630-8c7b-4176-89bc-8413f5c42825"
      },
      "outputs": [
        {
          "data": {
            "text/html": [
              "\n",
              "  <div id=\"df-4e95aafb-947f-4f11-92ac-cd4582ebba9d\">\n",
              "    <div class=\"colab-df-container\">\n",
              "      <div>\n",
              "<style scoped>\n",
              "    .dataframe tbody tr th:only-of-type {\n",
              "        vertical-align: middle;\n",
              "    }\n",
              "\n",
              "    .dataframe tbody tr th {\n",
              "        vertical-align: top;\n",
              "    }\n",
              "\n",
              "    .dataframe thead th {\n",
              "        text-align: right;\n",
              "    }\n",
              "</style>\n",
              "<table border=\"1\" class=\"dataframe\">\n",
              "  <thead>\n",
              "    <tr style=\"text-align: right;\">\n",
              "      <th></th>\n",
              "      <th>id</th>\n",
              "      <th>hashtag</th>\n",
              "      <th>votes</th>\n",
              "      <th>hard</th>\n",
              "      <th>sentiment</th>\n",
              "      <th>group</th>\n",
              "      <th>text</th>\n",
              "      <th>repeat</th>\n",
              "      <th>text_clean</th>\n",
              "    </tr>\n",
              "  </thead>\n",
              "  <tbody>\n",
              "    <tr>\n",
              "      <th>0</th>\n",
              "      <td>863044774588272640</td>\n",
              "      <td>#encontro</td>\n",
              "      <td>[1, 1, 1, 1, 1, 1, 1]</td>\n",
              "      <td>0</td>\n",
              "      <td>2</td>\n",
              "      <td>test</td>\n",
              "      <td>que coisa linda O programa estava mostrando uma familia que adotou um adolescente de NUMBER anos que amor !</td>\n",
              "      <td>False</td>\n",
              "      <td>coisa linda programa mostrando familia adotou adolescente anos amor</td>\n",
              "    </tr>\n",
              "    <tr>\n",
              "      <th>1</th>\n",
              "      <td>865583716088766464</td>\n",
              "      <td>#encontro</td>\n",
              "      <td>[1, 1, 1, 1, 1, 1, 1]</td>\n",
              "      <td>0</td>\n",
              "      <td>2</td>\n",
              "      <td>test</td>\n",
              "      <td>por mais com as irmãs galvão adorei elas</td>\n",
              "      <td>False</td>\n",
              "      <td>irmãs galvão adorei</td>\n",
              "    </tr>\n",
              "    <tr>\n",
              "      <th>2</th>\n",
              "      <td>865063232201011200</td>\n",
              "      <td>#TheNoite</td>\n",
              "      <td>[1, 0, 1, 1, 1, 0, 0]</td>\n",
              "      <td>2</td>\n",
              "      <td>2</td>\n",
              "      <td>test</td>\n",
              "      <td>mr CATRA USERNAME lançando sua nova música PPK CHORA no USERNAME k k k 👅 😉 #MrCatra #PpkChora</td>\n",
              "      <td>False</td>\n",
              "      <td>mr catra lançando nova música ppk chora k k k mrcatra ppkchora</td>\n",
              "    </tr>\n",
              "    <tr>\n",
              "      <th>3</th>\n",
              "      <td>864668391008763904</td>\n",
              "      <td>#masterchefbr</td>\n",
              "      <td>[0, 0, 0, 0, 0, 0, 0]</td>\n",
              "      <td>0</td>\n",
              "      <td>1</td>\n",
              "      <td>test</td>\n",
              "      <td>quem viu aquela lutadora modela barbuda tatuada #MasterChefBR</td>\n",
              "      <td>False</td>\n",
              "      <td>viu lutadora modela barbuda tatuada masterchefbr</td>\n",
              "    </tr>\n",
              "    <tr>\n",
              "      <th>4</th>\n",
              "      <td>865572794016378880</td>\n",
              "      <td>#encontro</td>\n",
              "      <td>[-1, -1, -1, -1, -1, -1, -1]</td>\n",
              "      <td>0</td>\n",
              "      <td>0</td>\n",
              "      <td>test</td>\n",
              "      <td>tô passada com esse cara quanta merda pode sair da boca de alguém em alguns minutos 😠</td>\n",
              "      <td>False</td>\n",
              "      <td>tô passada cara quanta merda pode sair boca alguém alguns minutos</td>\n",
              "    </tr>\n",
              "  </tbody>\n",
              "</table>\n",
              "</div>\n",
              "      <button class=\"colab-df-convert\" onclick=\"convertToInteractive('df-4e95aafb-947f-4f11-92ac-cd4582ebba9d')\"\n",
              "              title=\"Convert this dataframe to an interactive table.\"\n",
              "              style=\"display:none;\">\n",
              "        \n",
              "  <svg xmlns=\"http://www.w3.org/2000/svg\" height=\"24px\"viewBox=\"0 0 24 24\"\n",
              "       width=\"24px\">\n",
              "    <path d=\"M0 0h24v24H0V0z\" fill=\"none\"/>\n",
              "    <path d=\"M18.56 5.44l.94 2.06.94-2.06 2.06-.94-2.06-.94-.94-2.06-.94 2.06-2.06.94zm-11 1L8.5 8.5l.94-2.06 2.06-.94-2.06-.94L8.5 2.5l-.94 2.06-2.06.94zm10 10l.94 2.06.94-2.06 2.06-.94-2.06-.94-.94-2.06-.94 2.06-2.06.94z\"/><path d=\"M17.41 7.96l-1.37-1.37c-.4-.4-.92-.59-1.43-.59-.52 0-1.04.2-1.43.59L10.3 9.45l-7.72 7.72c-.78.78-.78 2.05 0 2.83L4 21.41c.39.39.9.59 1.41.59.51 0 1.02-.2 1.41-.59l7.78-7.78 2.81-2.81c.8-.78.8-2.07 0-2.86zM5.41 20L4 18.59l7.72-7.72 1.47 1.35L5.41 20z\"/>\n",
              "  </svg>\n",
              "      </button>\n",
              "      \n",
              "  <style>\n",
              "    .colab-df-container {\n",
              "      display:flex;\n",
              "      flex-wrap:wrap;\n",
              "      gap: 12px;\n",
              "    }\n",
              "\n",
              "    .colab-df-convert {\n",
              "      background-color: #E8F0FE;\n",
              "      border: none;\n",
              "      border-radius: 50%;\n",
              "      cursor: pointer;\n",
              "      display: none;\n",
              "      fill: #1967D2;\n",
              "      height: 32px;\n",
              "      padding: 0 0 0 0;\n",
              "      width: 32px;\n",
              "    }\n",
              "\n",
              "    .colab-df-convert:hover {\n",
              "      background-color: #E2EBFA;\n",
              "      box-shadow: 0px 1px 2px rgba(60, 64, 67, 0.3), 0px 1px 3px 1px rgba(60, 64, 67, 0.15);\n",
              "      fill: #174EA6;\n",
              "    }\n",
              "\n",
              "    [theme=dark] .colab-df-convert {\n",
              "      background-color: #3B4455;\n",
              "      fill: #D2E3FC;\n",
              "    }\n",
              "\n",
              "    [theme=dark] .colab-df-convert:hover {\n",
              "      background-color: #434B5C;\n",
              "      box-shadow: 0px 1px 3px 1px rgba(0, 0, 0, 0.15);\n",
              "      filter: drop-shadow(0px 1px 2px rgba(0, 0, 0, 0.3));\n",
              "      fill: #FFFFFF;\n",
              "    }\n",
              "  </style>\n",
              "\n",
              "      <script>\n",
              "        const buttonEl =\n",
              "          document.querySelector('#df-4e95aafb-947f-4f11-92ac-cd4582ebba9d button.colab-df-convert');\n",
              "        buttonEl.style.display =\n",
              "          google.colab.kernel.accessAllowed ? 'block' : 'none';\n",
              "\n",
              "        async function convertToInteractive(key) {\n",
              "          const element = document.querySelector('#df-4e95aafb-947f-4f11-92ac-cd4582ebba9d');\n",
              "          const dataTable =\n",
              "            await google.colab.kernel.invokeFunction('convertToInteractive',\n",
              "                                                     [key], {});\n",
              "          if (!dataTable) return;\n",
              "\n",
              "          const docLinkHtml = 'Like what you see? Visit the ' +\n",
              "            '<a target=\"_blank\" href=https://colab.research.google.com/notebooks/data_table.ipynb>data table notebook</a>'\n",
              "            + ' to learn more about interactive tables.';\n",
              "          element.innerHTML = '';\n",
              "          dataTable['output_type'] = 'display_data';\n",
              "          await google.colab.output.renderOutput(dataTable, element);\n",
              "          const docLink = document.createElement('div');\n",
              "          docLink.innerHTML = docLinkHtml;\n",
              "          element.appendChild(docLink);\n",
              "        }\n",
              "      </script>\n",
              "    </div>\n",
              "  </div>\n",
              "  "
            ],
            "text/plain": [
              "                   id        hashtag                         votes  hard  \\\n",
              "0  863044774588272640      #encontro         [1, 1, 1, 1, 1, 1, 1]     0   \n",
              "1  865583716088766464      #encontro         [1, 1, 1, 1, 1, 1, 1]     0   \n",
              "2  865063232201011200      #TheNoite         [1, 0, 1, 1, 1, 0, 0]     2   \n",
              "3  864668391008763904  #masterchefbr         [0, 0, 0, 0, 0, 0, 0]     0   \n",
              "4  865572794016378880      #encontro  [-1, -1, -1, -1, -1, -1, -1]     0   \n",
              "\n",
              "   sentiment group  \\\n",
              "0          2  test   \n",
              "1          2  test   \n",
              "2          2  test   \n",
              "3          1  test   \n",
              "4          0  test   \n",
              "\n",
              "                                                                                                          text  \\\n",
              "0  que coisa linda O programa estava mostrando uma familia que adotou um adolescente de NUMBER anos que amor !   \n",
              "1                                                                     por mais com as irmãs galvão adorei elas   \n",
              "2                mr CATRA USERNAME lançando sua nova música PPK CHORA no USERNAME k k k 👅 😉 #MrCatra #PpkChora   \n",
              "3                                                quem viu aquela lutadora modela barbuda tatuada #MasterChefBR   \n",
              "4                        tô passada com esse cara quanta merda pode sair da boca de alguém em alguns minutos 😠   \n",
              "\n",
              "   repeat                                                           text_clean  \n",
              "0   False  coisa linda programa mostrando familia adotou adolescente anos amor  \n",
              "1   False                                                  irmãs galvão adorei  \n",
              "2   False       mr catra lançando nova música ppk chora k k k mrcatra ppkchora  \n",
              "3   False                     viu lutadora modela barbuda tatuada masterchefbr  \n",
              "4   False    tô passada cara quanta merda pode sair boca alguém alguns minutos  "
            ]
          },
          "execution_count": 14,
          "metadata": {},
          "output_type": "execute_result"
        }
      ],
      "source": [
        "# aplicando a função de limpeza de dados:\n",
        "tweets_df['text_clean'] = [Preprocessing(i) for i in tweets_df['text_clean']]\n",
        "tweets_df['text_clean'] = [remove_emoji(i) for i in tweets_df['text_clean']]\n",
        "pd.set_option('display.max_colwidth', None) \n",
        "\n",
        "tweets_df.head()"
      ]
    },
    {
      "cell_type": "markdown",
      "metadata": {
        "id": "jEohQ0VfAjyV"
      },
      "source": [
        "# Lematização"
      ]
    },
    {
      "cell_type": "code",
      "execution_count": 15,
      "metadata": {
        "colab": {
          "base_uri": "https://localhost:8080/",
          "height": 1000
        },
        "id": "jLJa8dxfAk6Z",
        "outputId": "729ad59c-9a4b-4d94-a5e8-2a085d901861"
      },
      "outputs": [
        {
          "name": "stdout",
          "output_type": "stream",
          "text": [
            "Looking in indexes: https://pypi.org/simple, https://us-python.pkg.dev/colab-wheels/public/simple/\n",
            "Requirement already satisfied: pip in /usr/local/lib/python3.7/dist-packages (21.1.3)\n",
            "Collecting pip\n",
            "  Downloading pip-22.2.1-py3-none-any.whl (2.0 MB)\n",
            "\u001b[K     |████████████████████████████████| 2.0 MB 7.3 MB/s \n",
            "\u001b[?25hRequirement already satisfied: setuptools in /usr/local/lib/python3.7/dist-packages (57.4.0)\n",
            "Collecting setuptools\n",
            "  Downloading setuptools-63.2.0-py3-none-any.whl (1.2 MB)\n",
            "\u001b[K     |████████████████████████████████| 1.2 MB 49.4 MB/s \n",
            "\u001b[?25hRequirement already satisfied: wheel in /usr/local/lib/python3.7/dist-packages (0.37.1)\n",
            "Installing collected packages: setuptools, pip\n",
            "  Attempting uninstall: setuptools\n",
            "    Found existing installation: setuptools 57.4.0\n",
            "    Uninstalling setuptools-57.4.0:\n",
            "      Successfully uninstalled setuptools-57.4.0\n",
            "  Attempting uninstall: pip\n",
            "    Found existing installation: pip 21.1.3\n",
            "    Uninstalling pip-21.1.3:\n",
            "      Successfully uninstalled pip-21.1.3\n",
            "\u001b[31mERROR: pip's dependency resolver does not currently take into account all the packages that are installed. This behaviour is the source of the following dependency conflicts.\n",
            "datascience 0.10.6 requires folium==0.2.1, but you have folium 0.8.3 which is incompatible.\u001b[0m\n",
            "Successfully installed pip-22.2.1 setuptools-63.2.0\n"
          ]
        },
        {
          "data": {
            "application/vnd.colab-display-data+json": {
              "pip_warning": {
                "packages": [
                  "pkg_resources"
                ]
              }
            }
          },
          "metadata": {},
          "output_type": "display_data"
        },
        {
          "name": "stdout",
          "output_type": "stream",
          "text": [
            "Looking in indexes: https://pypi.org/simple, https://us-python.pkg.dev/colab-wheels/public/simple/\n",
            "Requirement already satisfied: spacy in /usr/local/lib/python3.7/dist-packages (3.4.0)\n",
            "Collecting spacy\n",
            "  Downloading spacy-3.4.1-cp37-cp37m-manylinux_2_17_x86_64.manylinux2014_x86_64.whl (6.3 MB)\n",
            "\u001b[2K     \u001b[90m━━━━━━━━━━━━━━━━━━━━━━━━━━━━━━━━━━━━━━━━\u001b[0m \u001b[32m6.3/6.3 MB\u001b[0m \u001b[31m56.9 MB/s\u001b[0m eta \u001b[36m0:00:00\u001b[0m\n",
            "\u001b[?25hRequirement already satisfied: typing-extensions<4.2.0,>=3.7.4 in /usr/local/lib/python3.7/dist-packages (from spacy) (4.1.1)\n",
            "Requirement already satisfied: jinja2 in /usr/local/lib/python3.7/dist-packages (from spacy) (2.11.3)\n",
            "Requirement already satisfied: numpy>=1.15.0 in /usr/local/lib/python3.7/dist-packages (from spacy) (1.21.6)\n",
            "Requirement already satisfied: setuptools in /usr/local/lib/python3.7/dist-packages (from spacy) (63.2.0)\n",
            "Requirement already satisfied: murmurhash<1.1.0,>=0.28.0 in /usr/local/lib/python3.7/dist-packages (from spacy) (1.0.7)\n",
            "Requirement already satisfied: langcodes<4.0.0,>=3.2.0 in /usr/local/lib/python3.7/dist-packages (from spacy) (3.3.0)\n",
            "Requirement already satisfied: catalogue<2.1.0,>=2.0.6 in /usr/local/lib/python3.7/dist-packages (from spacy) (2.0.7)\n",
            "Requirement already satisfied: pathy>=0.3.5 in /usr/local/lib/python3.7/dist-packages (from spacy) (0.6.2)\n",
            "Requirement already satisfied: pydantic!=1.8,!=1.8.1,<1.10.0,>=1.7.4 in /usr/local/lib/python3.7/dist-packages (from spacy) (1.9.1)\n",
            "Requirement already satisfied: spacy-loggers<2.0.0,>=1.0.0 in /usr/local/lib/python3.7/dist-packages (from spacy) (1.0.3)\n",
            "Requirement already satisfied: preshed<3.1.0,>=3.0.2 in /usr/local/lib/python3.7/dist-packages (from spacy) (3.0.6)\n",
            "Requirement already satisfied: requests<3.0.0,>=2.13.0 in /usr/local/lib/python3.7/dist-packages (from spacy) (2.23.0)\n",
            "Requirement already satisfied: cymem<2.1.0,>=2.0.2 in /usr/local/lib/python3.7/dist-packages (from spacy) (2.0.6)\n",
            "Requirement already satisfied: packaging>=20.0 in /usr/local/lib/python3.7/dist-packages (from spacy) (21.3)\n",
            "Requirement already satisfied: srsly<3.0.0,>=2.4.3 in /usr/local/lib/python3.7/dist-packages (from spacy) (2.4.4)\n",
            "Requirement already satisfied: wasabi<1.1.0,>=0.9.1 in /usr/local/lib/python3.7/dist-packages (from spacy) (0.9.1)\n",
            "Requirement already satisfied: typer<0.5.0,>=0.3.0 in /usr/local/lib/python3.7/dist-packages (from spacy) (0.4.2)\n",
            "Requirement already satisfied: tqdm<5.0.0,>=4.38.0 in /usr/local/lib/python3.7/dist-packages (from spacy) (4.64.0)\n",
            "Requirement already satisfied: spacy-legacy<3.1.0,>=3.0.9 in /usr/local/lib/python3.7/dist-packages (from spacy) (3.0.9)\n",
            "Requirement already satisfied: thinc<8.2.0,>=8.1.0 in /usr/local/lib/python3.7/dist-packages (from spacy) (8.1.0)\n",
            "Requirement already satisfied: zipp>=0.5 in /usr/local/lib/python3.7/dist-packages (from catalogue<2.1.0,>=2.0.6->spacy) (3.8.1)\n",
            "Requirement already satisfied: pyparsing!=3.0.5,>=2.0.2 in /usr/local/lib/python3.7/dist-packages (from packaging>=20.0->spacy) (3.0.9)\n",
            "Requirement already satisfied: smart-open<6.0.0,>=5.2.1 in /usr/local/lib/python3.7/dist-packages (from pathy>=0.3.5->spacy) (5.2.1)\n",
            "Requirement already satisfied: idna<3,>=2.5 in /usr/local/lib/python3.7/dist-packages (from requests<3.0.0,>=2.13.0->spacy) (2.10)\n",
            "Requirement already satisfied: certifi>=2017.4.17 in /usr/local/lib/python3.7/dist-packages (from requests<3.0.0,>=2.13.0->spacy) (2022.6.15)\n",
            "Requirement already satisfied: urllib3!=1.25.0,!=1.25.1,<1.26,>=1.21.1 in /usr/local/lib/python3.7/dist-packages (from requests<3.0.0,>=2.13.0->spacy) (1.24.3)\n",
            "Requirement already satisfied: chardet<4,>=3.0.2 in /usr/local/lib/python3.7/dist-packages (from requests<3.0.0,>=2.13.0->spacy) (3.0.4)\n",
            "Requirement already satisfied: blis<0.8.0,>=0.7.8 in /usr/local/lib/python3.7/dist-packages (from thinc<8.2.0,>=8.1.0->spacy) (0.7.8)\n",
            "Requirement already satisfied: click<9.0.0,>=7.1.1 in /usr/local/lib/python3.7/dist-packages (from typer<0.5.0,>=0.3.0->spacy) (7.1.2)\n",
            "Requirement already satisfied: MarkupSafe>=0.23 in /usr/local/lib/python3.7/dist-packages (from jinja2->spacy) (2.0.1)\n",
            "Installing collected packages: spacy\n",
            "  Attempting uninstall: spacy\n",
            "    Found existing installation: spacy 3.4.0\n",
            "    Uninstalling spacy-3.4.0:\n",
            "      Successfully uninstalled spacy-3.4.0\n",
            "Successfully installed spacy-3.4.1\n",
            "\u001b[33mWARNING: Running pip as the 'root' user can result in broken permissions and conflicting behaviour with the system package manager. It is recommended to use a virtual environment instead: https://pip.pypa.io/warnings/venv\u001b[0m\u001b[33m\n",
            "\u001b[0m2022-07-28 15:41:20.785333: E tensorflow/stream_executor/cuda/cuda_driver.cc:271] failed call to cuInit: CUDA_ERROR_NO_DEVICE: no CUDA-capable device is detected\n",
            "Looking in indexes: https://pypi.org/simple, https://us-python.pkg.dev/colab-wheels/public/simple/\n",
            "Collecting pt-core-news-sm==3.4.0\n",
            "  Downloading https://github.com/explosion/spacy-models/releases/download/pt_core_news_sm-3.4.0/pt_core_news_sm-3.4.0-py3-none-any.whl (13.0 MB)\n",
            "\u001b[2K     \u001b[90m━━━━━━━━━━━━━━━━━━━━━━━━━━━━━━━━━━━━━━━━\u001b[0m \u001b[32m13.0/13.0 MB\u001b[0m \u001b[31m16.2 MB/s\u001b[0m eta \u001b[36m0:00:00\u001b[0m\n",
            "\u001b[?25hRequirement already satisfied: spacy<3.5.0,>=3.4.0 in /usr/local/lib/python3.7/dist-packages (from pt-core-news-sm==3.4.0) (3.4.1)\n",
            "Requirement already satisfied: typer<0.5.0,>=0.3.0 in /usr/local/lib/python3.7/dist-packages (from spacy<3.5.0,>=3.4.0->pt-core-news-sm==3.4.0) (0.4.2)\n",
            "Requirement already satisfied: langcodes<4.0.0,>=3.2.0 in /usr/local/lib/python3.7/dist-packages (from spacy<3.5.0,>=3.4.0->pt-core-news-sm==3.4.0) (3.3.0)\n",
            "Requirement already satisfied: preshed<3.1.0,>=3.0.2 in /usr/local/lib/python3.7/dist-packages (from spacy<3.5.0,>=3.4.0->pt-core-news-sm==3.4.0) (3.0.6)\n",
            "Requirement already satisfied: pydantic!=1.8,!=1.8.1,<1.10.0,>=1.7.4 in /usr/local/lib/python3.7/dist-packages (from spacy<3.5.0,>=3.4.0->pt-core-news-sm==3.4.0) (1.9.1)\n",
            "Requirement already satisfied: pathy>=0.3.5 in /usr/local/lib/python3.7/dist-packages (from spacy<3.5.0,>=3.4.0->pt-core-news-sm==3.4.0) (0.6.2)\n",
            "Requirement already satisfied: tqdm<5.0.0,>=4.38.0 in /usr/local/lib/python3.7/dist-packages (from spacy<3.5.0,>=3.4.0->pt-core-news-sm==3.4.0) (4.64.0)\n",
            "Requirement already satisfied: typing-extensions<4.2.0,>=3.7.4 in /usr/local/lib/python3.7/dist-packages (from spacy<3.5.0,>=3.4.0->pt-core-news-sm==3.4.0) (4.1.1)\n",
            "Requirement already satisfied: spacy-loggers<2.0.0,>=1.0.0 in /usr/local/lib/python3.7/dist-packages (from spacy<3.5.0,>=3.4.0->pt-core-news-sm==3.4.0) (1.0.3)\n",
            "Requirement already satisfied: catalogue<2.1.0,>=2.0.6 in /usr/local/lib/python3.7/dist-packages (from spacy<3.5.0,>=3.4.0->pt-core-news-sm==3.4.0) (2.0.7)\n",
            "Requirement already satisfied: murmurhash<1.1.0,>=0.28.0 in /usr/local/lib/python3.7/dist-packages (from spacy<3.5.0,>=3.4.0->pt-core-news-sm==3.4.0) (1.0.7)\n",
            "Requirement already satisfied: requests<3.0.0,>=2.13.0 in /usr/local/lib/python3.7/dist-packages (from spacy<3.5.0,>=3.4.0->pt-core-news-sm==3.4.0) (2.23.0)\n",
            "Requirement already satisfied: setuptools in /usr/local/lib/python3.7/dist-packages (from spacy<3.5.0,>=3.4.0->pt-core-news-sm==3.4.0) (63.2.0)\n",
            "Requirement already satisfied: spacy-legacy<3.1.0,>=3.0.9 in /usr/local/lib/python3.7/dist-packages (from spacy<3.5.0,>=3.4.0->pt-core-news-sm==3.4.0) (3.0.9)\n",
            "Requirement already satisfied: wasabi<1.1.0,>=0.9.1 in /usr/local/lib/python3.7/dist-packages (from spacy<3.5.0,>=3.4.0->pt-core-news-sm==3.4.0) (0.9.1)\n",
            "Requirement already satisfied: srsly<3.0.0,>=2.4.3 in /usr/local/lib/python3.7/dist-packages (from spacy<3.5.0,>=3.4.0->pt-core-news-sm==3.4.0) (2.4.4)\n",
            "Requirement already satisfied: thinc<8.2.0,>=8.1.0 in /usr/local/lib/python3.7/dist-packages (from spacy<3.5.0,>=3.4.0->pt-core-news-sm==3.4.0) (8.1.0)\n",
            "Requirement already satisfied: numpy>=1.15.0 in /usr/local/lib/python3.7/dist-packages (from spacy<3.5.0,>=3.4.0->pt-core-news-sm==3.4.0) (1.21.6)\n",
            "Requirement already satisfied: cymem<2.1.0,>=2.0.2 in /usr/local/lib/python3.7/dist-packages (from spacy<3.5.0,>=3.4.0->pt-core-news-sm==3.4.0) (2.0.6)\n",
            "Requirement already satisfied: packaging>=20.0 in /usr/local/lib/python3.7/dist-packages (from spacy<3.5.0,>=3.4.0->pt-core-news-sm==3.4.0) (21.3)\n",
            "Requirement already satisfied: jinja2 in /usr/local/lib/python3.7/dist-packages (from spacy<3.5.0,>=3.4.0->pt-core-news-sm==3.4.0) (2.11.3)\n",
            "Requirement already satisfied: zipp>=0.5 in /usr/local/lib/python3.7/dist-packages (from catalogue<2.1.0,>=2.0.6->spacy<3.5.0,>=3.4.0->pt-core-news-sm==3.4.0) (3.8.1)\n",
            "Requirement already satisfied: pyparsing!=3.0.5,>=2.0.2 in /usr/local/lib/python3.7/dist-packages (from packaging>=20.0->spacy<3.5.0,>=3.4.0->pt-core-news-sm==3.4.0) (3.0.9)\n",
            "Requirement already satisfied: smart-open<6.0.0,>=5.2.1 in /usr/local/lib/python3.7/dist-packages (from pathy>=0.3.5->spacy<3.5.0,>=3.4.0->pt-core-news-sm==3.4.0) (5.2.1)\n",
            "Requirement already satisfied: chardet<4,>=3.0.2 in /usr/local/lib/python3.7/dist-packages (from requests<3.0.0,>=2.13.0->spacy<3.5.0,>=3.4.0->pt-core-news-sm==3.4.0) (3.0.4)\n",
            "Requirement already satisfied: urllib3!=1.25.0,!=1.25.1,<1.26,>=1.21.1 in /usr/local/lib/python3.7/dist-packages (from requests<3.0.0,>=2.13.0->spacy<3.5.0,>=3.4.0->pt-core-news-sm==3.4.0) (1.24.3)\n",
            "Requirement already satisfied: idna<3,>=2.5 in /usr/local/lib/python3.7/dist-packages (from requests<3.0.0,>=2.13.0->spacy<3.5.0,>=3.4.0->pt-core-news-sm==3.4.0) (2.10)\n",
            "Requirement already satisfied: certifi>=2017.4.17 in /usr/local/lib/python3.7/dist-packages (from requests<3.0.0,>=2.13.0->spacy<3.5.0,>=3.4.0->pt-core-news-sm==3.4.0) (2022.6.15)\n",
            "Requirement already satisfied: blis<0.8.0,>=0.7.8 in /usr/local/lib/python3.7/dist-packages (from thinc<8.2.0,>=8.1.0->spacy<3.5.0,>=3.4.0->pt-core-news-sm==3.4.0) (0.7.8)\n",
            "Requirement already satisfied: click<9.0.0,>=7.1.1 in /usr/local/lib/python3.7/dist-packages (from typer<0.5.0,>=0.3.0->spacy<3.5.0,>=3.4.0->pt-core-news-sm==3.4.0) (7.1.2)\n",
            "Requirement already satisfied: MarkupSafe>=0.23 in /usr/local/lib/python3.7/dist-packages (from jinja2->spacy<3.5.0,>=3.4.0->pt-core-news-sm==3.4.0) (2.0.1)\n",
            "Installing collected packages: pt-core-news-sm\n",
            "Successfully installed pt-core-news-sm-3.4.0\n",
            "\u001b[33mWARNING: Running pip as the 'root' user can result in broken permissions and conflicting behaviour with the system package manager. It is recommended to use a virtual environment instead: https://pip.pypa.io/warnings/venv\u001b[0m\u001b[33m\n",
            "\u001b[0m\u001b[38;5;2m✔ Download and installation successful\u001b[0m\n",
            "You can now load the package via spacy.load('pt_core_news_sm')\n"
          ]
        }
      ],
      "source": [
        "!pip install -U pip setuptools wheel\n",
        "!pip install -U spacy\n",
        "!python -m spacy download pt_core_news_sm"
      ]
    },
    {
      "cell_type": "code",
      "execution_count": 16,
      "metadata": {
        "id": "bZSYKCnDApH9"
      },
      "outputs": [],
      "source": [
        "import spacy\n",
        "nlp = spacy.load('pt_core_news_sm')"
      ]
    },
    {
      "cell_type": "code",
      "execution_count": 17,
      "metadata": {
        "colab": {
          "base_uri": "https://localhost:8080/",
          "height": 441
        },
        "id": "lwqCztW6AtB1",
        "outputId": "cd45b324-e7dd-4251-897e-83847b8aa0b0"
      },
      "outputs": [
        {
          "data": {
            "text/html": [
              "\n",
              "  <div id=\"df-cc52f487-2399-4bae-a0b5-2fd852efa080\">\n",
              "    <div class=\"colab-df-container\">\n",
              "      <div>\n",
              "<style scoped>\n",
              "    .dataframe tbody tr th:only-of-type {\n",
              "        vertical-align: middle;\n",
              "    }\n",
              "\n",
              "    .dataframe tbody tr th {\n",
              "        vertical-align: top;\n",
              "    }\n",
              "\n",
              "    .dataframe thead th {\n",
              "        text-align: right;\n",
              "    }\n",
              "</style>\n",
              "<table border=\"1\" class=\"dataframe\">\n",
              "  <thead>\n",
              "    <tr style=\"text-align: right;\">\n",
              "      <th></th>\n",
              "      <th>id</th>\n",
              "      <th>hashtag</th>\n",
              "      <th>votes</th>\n",
              "      <th>hard</th>\n",
              "      <th>sentiment</th>\n",
              "      <th>group</th>\n",
              "      <th>text</th>\n",
              "      <th>repeat</th>\n",
              "      <th>text_clean</th>\n",
              "      <th>text_lemma</th>\n",
              "    </tr>\n",
              "  </thead>\n",
              "  <tbody>\n",
              "    <tr>\n",
              "      <th>0</th>\n",
              "      <td>863044774588272640</td>\n",
              "      <td>#encontro</td>\n",
              "      <td>[1, 1, 1, 1, 1, 1, 1]</td>\n",
              "      <td>0</td>\n",
              "      <td>2</td>\n",
              "      <td>test</td>\n",
              "      <td>que coisa linda O programa estava mostrando uma familia que adotou um adolescente de NUMBER anos que amor !</td>\n",
              "      <td>False</td>\n",
              "      <td>coisa linda programa mostrando familia adotou adolescente anos amor</td>\n",
              "      <td>coisa lindo programa mostrar familia adotar adolescente ano amor</td>\n",
              "    </tr>\n",
              "    <tr>\n",
              "      <th>1</th>\n",
              "      <td>865583716088766464</td>\n",
              "      <td>#encontro</td>\n",
              "      <td>[1, 1, 1, 1, 1, 1, 1]</td>\n",
              "      <td>0</td>\n",
              "      <td>2</td>\n",
              "      <td>test</td>\n",
              "      <td>por mais com as irmãs galvão adorei elas</td>\n",
              "      <td>False</td>\n",
              "      <td>irmãs galvão adorei</td>\n",
              "      <td>irmã galvão ador</td>\n",
              "    </tr>\n",
              "    <tr>\n",
              "      <th>2</th>\n",
              "      <td>865063232201011200</td>\n",
              "      <td>#TheNoite</td>\n",
              "      <td>[1, 0, 1, 1, 1, 0, 0]</td>\n",
              "      <td>2</td>\n",
              "      <td>2</td>\n",
              "      <td>test</td>\n",
              "      <td>mr CATRA USERNAME lançando sua nova música PPK CHORA no USERNAME k k k 👅 😉 #MrCatra #PpkChora</td>\n",
              "      <td>False</td>\n",
              "      <td>mr catra lançando nova música ppk chora k k k mrcatra ppkchora</td>\n",
              "      <td>mr catra lançar novo música ppk chorar k k k mrcatra ppkchora</td>\n",
              "    </tr>\n",
              "    <tr>\n",
              "      <th>3</th>\n",
              "      <td>864668391008763904</td>\n",
              "      <td>#masterchefbr</td>\n",
              "      <td>[0, 0, 0, 0, 0, 0, 0]</td>\n",
              "      <td>0</td>\n",
              "      <td>1</td>\n",
              "      <td>test</td>\n",
              "      <td>quem viu aquela lutadora modela barbuda tatuada #MasterChefBR</td>\n",
              "      <td>False</td>\n",
              "      <td>viu lutadora modela barbuda tatuada masterchefbr</td>\n",
              "      <td>ver lutadora modelar barbuda tatuar masterchefbr</td>\n",
              "    </tr>\n",
              "    <tr>\n",
              "      <th>4</th>\n",
              "      <td>865572794016378880</td>\n",
              "      <td>#encontro</td>\n",
              "      <td>[-1, -1, -1, -1, -1, -1, -1]</td>\n",
              "      <td>0</td>\n",
              "      <td>0</td>\n",
              "      <td>test</td>\n",
              "      <td>tô passada com esse cara quanta merda pode sair da boca de alguém em alguns minutos 😠</td>\n",
              "      <td>False</td>\n",
              "      <td>tô passada cara quanta merda pode sair boca alguém alguns minutos</td>\n",
              "      <td>tô passado cara quanto merdo poder sair boca alguém algum minuto</td>\n",
              "    </tr>\n",
              "  </tbody>\n",
              "</table>\n",
              "</div>\n",
              "      <button class=\"colab-df-convert\" onclick=\"convertToInteractive('df-cc52f487-2399-4bae-a0b5-2fd852efa080')\"\n",
              "              title=\"Convert this dataframe to an interactive table.\"\n",
              "              style=\"display:none;\">\n",
              "        \n",
              "  <svg xmlns=\"http://www.w3.org/2000/svg\" height=\"24px\"viewBox=\"0 0 24 24\"\n",
              "       width=\"24px\">\n",
              "    <path d=\"M0 0h24v24H0V0z\" fill=\"none\"/>\n",
              "    <path d=\"M18.56 5.44l.94 2.06.94-2.06 2.06-.94-2.06-.94-.94-2.06-.94 2.06-2.06.94zm-11 1L8.5 8.5l.94-2.06 2.06-.94-2.06-.94L8.5 2.5l-.94 2.06-2.06.94zm10 10l.94 2.06.94-2.06 2.06-.94-2.06-.94-.94-2.06-.94 2.06-2.06.94z\"/><path d=\"M17.41 7.96l-1.37-1.37c-.4-.4-.92-.59-1.43-.59-.52 0-1.04.2-1.43.59L10.3 9.45l-7.72 7.72c-.78.78-.78 2.05 0 2.83L4 21.41c.39.39.9.59 1.41.59.51 0 1.02-.2 1.41-.59l7.78-7.78 2.81-2.81c.8-.78.8-2.07 0-2.86zM5.41 20L4 18.59l7.72-7.72 1.47 1.35L5.41 20z\"/>\n",
              "  </svg>\n",
              "      </button>\n",
              "      \n",
              "  <style>\n",
              "    .colab-df-container {\n",
              "      display:flex;\n",
              "      flex-wrap:wrap;\n",
              "      gap: 12px;\n",
              "    }\n",
              "\n",
              "    .colab-df-convert {\n",
              "      background-color: #E8F0FE;\n",
              "      border: none;\n",
              "      border-radius: 50%;\n",
              "      cursor: pointer;\n",
              "      display: none;\n",
              "      fill: #1967D2;\n",
              "      height: 32px;\n",
              "      padding: 0 0 0 0;\n",
              "      width: 32px;\n",
              "    }\n",
              "\n",
              "    .colab-df-convert:hover {\n",
              "      background-color: #E2EBFA;\n",
              "      box-shadow: 0px 1px 2px rgba(60, 64, 67, 0.3), 0px 1px 3px 1px rgba(60, 64, 67, 0.15);\n",
              "      fill: #174EA6;\n",
              "    }\n",
              "\n",
              "    [theme=dark] .colab-df-convert {\n",
              "      background-color: #3B4455;\n",
              "      fill: #D2E3FC;\n",
              "    }\n",
              "\n",
              "    [theme=dark] .colab-df-convert:hover {\n",
              "      background-color: #434B5C;\n",
              "      box-shadow: 0px 1px 3px 1px rgba(0, 0, 0, 0.15);\n",
              "      filter: drop-shadow(0px 1px 2px rgba(0, 0, 0, 0.3));\n",
              "      fill: #FFFFFF;\n",
              "    }\n",
              "  </style>\n",
              "\n",
              "      <script>\n",
              "        const buttonEl =\n",
              "          document.querySelector('#df-cc52f487-2399-4bae-a0b5-2fd852efa080 button.colab-df-convert');\n",
              "        buttonEl.style.display =\n",
              "          google.colab.kernel.accessAllowed ? 'block' : 'none';\n",
              "\n",
              "        async function convertToInteractive(key) {\n",
              "          const element = document.querySelector('#df-cc52f487-2399-4bae-a0b5-2fd852efa080');\n",
              "          const dataTable =\n",
              "            await google.colab.kernel.invokeFunction('convertToInteractive',\n",
              "                                                     [key], {});\n",
              "          if (!dataTable) return;\n",
              "\n",
              "          const docLinkHtml = 'Like what you see? Visit the ' +\n",
              "            '<a target=\"_blank\" href=https://colab.research.google.com/notebooks/data_table.ipynb>data table notebook</a>'\n",
              "            + ' to learn more about interactive tables.';\n",
              "          element.innerHTML = '';\n",
              "          dataTable['output_type'] = 'display_data';\n",
              "          await google.colab.output.renderOutput(dataTable, element);\n",
              "          const docLink = document.createElement('div');\n",
              "          docLink.innerHTML = docLinkHtml;\n",
              "          element.appendChild(docLink);\n",
              "        }\n",
              "      </script>\n",
              "    </div>\n",
              "  </div>\n",
              "  "
            ],
            "text/plain": [
              "                   id        hashtag                         votes  hard  \\\n",
              "0  863044774588272640      #encontro         [1, 1, 1, 1, 1, 1, 1]     0   \n",
              "1  865583716088766464      #encontro         [1, 1, 1, 1, 1, 1, 1]     0   \n",
              "2  865063232201011200      #TheNoite         [1, 0, 1, 1, 1, 0, 0]     2   \n",
              "3  864668391008763904  #masterchefbr         [0, 0, 0, 0, 0, 0, 0]     0   \n",
              "4  865572794016378880      #encontro  [-1, -1, -1, -1, -1, -1, -1]     0   \n",
              "\n",
              "   sentiment group  \\\n",
              "0          2  test   \n",
              "1          2  test   \n",
              "2          2  test   \n",
              "3          1  test   \n",
              "4          0  test   \n",
              "\n",
              "                                                                                                          text  \\\n",
              "0  que coisa linda O programa estava mostrando uma familia que adotou um adolescente de NUMBER anos que amor !   \n",
              "1                                                                     por mais com as irmãs galvão adorei elas   \n",
              "2                mr CATRA USERNAME lançando sua nova música PPK CHORA no USERNAME k k k 👅 😉 #MrCatra #PpkChora   \n",
              "3                                                quem viu aquela lutadora modela barbuda tatuada #MasterChefBR   \n",
              "4                        tô passada com esse cara quanta merda pode sair da boca de alguém em alguns minutos 😠   \n",
              "\n",
              "   repeat  \\\n",
              "0   False   \n",
              "1   False   \n",
              "2   False   \n",
              "3   False   \n",
              "4   False   \n",
              "\n",
              "                                                            text_clean  \\\n",
              "0  coisa linda programa mostrando familia adotou adolescente anos amor   \n",
              "1                                                  irmãs galvão adorei   \n",
              "2       mr catra lançando nova música ppk chora k k k mrcatra ppkchora   \n",
              "3                     viu lutadora modela barbuda tatuada masterchefbr   \n",
              "4    tô passada cara quanta merda pode sair boca alguém alguns minutos   \n",
              "\n",
              "                                                         text_lemma  \n",
              "0  coisa lindo programa mostrar familia adotar adolescente ano amor  \n",
              "1                                                  irmã galvão ador  \n",
              "2     mr catra lançar novo música ppk chorar k k k mrcatra ppkchora  \n",
              "3                  ver lutadora modelar barbuda tatuar masterchefbr  \n",
              "4  tô passado cara quanto merdo poder sair boca alguém algum minuto  "
            ]
          },
          "execution_count": 17,
          "metadata": {},
          "output_type": "execute_result"
        }
      ],
      "source": [
        "tweets_df['text_lemma'] = tweets_df['text_clean'].apply(lambda row: \" \".join([w.lemma_ for w in nlp(row)]))\n",
        "tweets_df['text_lemma'] = [Preprocessing(i) for i in tweets_df['text_lemma']]\n",
        "tweets_df.head()"
      ]
    },
    {
      "cell_type": "markdown",
      "metadata": {
        "id": "DAjcAKaJAzRw"
      },
      "source": [
        "## Lematização (outra forma)"
      ]
    },
    {
      "cell_type": "code",
      "execution_count": 18,
      "metadata": {
        "colab": {
          "base_uri": "https://localhost:8080/"
        },
        "id": "DUYyh8IGA0j_",
        "outputId": "22452871-95ec-4b99-c0b9-d6338d826f5a"
      },
      "outputs": [
        {
          "name": "stdout",
          "output_type": "stream",
          "text": [
            "Looking in indexes: https://pypi.org/simple, https://us-python.pkg.dev/colab-wheels/public/simple/\n",
            "Collecting simplemma\n",
            "  Downloading simplemma-0.7.0-py3-none-any.whl (73.4 MB)\n",
            "\u001b[2K     \u001b[90m━━━━━━━━━━━━━━━━━━━━━━━━━━━━━━━━━━━━━━━━\u001b[0m \u001b[32m73.4/73.4 MB\u001b[0m \u001b[31m9.4 MB/s\u001b[0m eta \u001b[36m0:00:00\u001b[0m\n",
            "\u001b[?25hInstalling collected packages: simplemma\n",
            "Successfully installed simplemma-0.7.0\n",
            "\u001b[33mWARNING: Running pip as the 'root' user can result in broken permissions and conflicting behaviour with the system package manager. It is recommended to use a virtual environment instead: https://pip.pypa.io/warnings/venv\u001b[0m\u001b[33m\n",
            "\u001b[0m"
          ]
        }
      ],
      "source": [
        "!pip install simplemma"
      ]
    },
    {
      "cell_type": "code",
      "execution_count": 19,
      "metadata": {
        "id": "iWtg7C8lA4MO"
      },
      "outputs": [],
      "source": [
        "import simplemma\n",
        "from simplemma import text_lemmatizer"
      ]
    },
    {
      "cell_type": "code",
      "execution_count": 20,
      "metadata": {
        "colab": {
          "base_uri": "https://localhost:8080/"
        },
        "id": "Q_yLQbYOA66U",
        "outputId": "2118e593-e855-47df-9374-b6ca9a321a55"
      },
      "outputs": [
        {
          "data": {
            "text/plain": [
              "['ser',\n",
              " 'o',\n",
              " 'intervalo',\n",
              " 'entre',\n",
              " 'o',\n",
              " 'que',\n",
              " 'desejo',\n",
              " 'ser',\n",
              " 'e',\n",
              " 'o',\n",
              " 'outro',\n",
              " 'me',\n",
              " 'fazer',\n",
              " '.']"
            ]
          },
          "execution_count": 20,
          "metadata": {},
          "output_type": "execute_result"
        }
      ],
      "source": [
        "# teste\n",
        "teste_lemma = text_lemmatizer('Sou o intervalo entre o que desejo ser e os outros me fizeram.', lang='pt')\n",
        "teste_lemma"
      ]
    },
    {
      "cell_type": "code",
      "execution_count": 21,
      "metadata": {
        "colab": {
          "base_uri": "https://localhost:8080/",
          "height": 493
        },
        "id": "3utn--JOA9mm",
        "outputId": "21d805e6-de5c-4db2-bdc8-ae5d7c35d09a"
      },
      "outputs": [
        {
          "data": {
            "text/html": [
              "\n",
              "  <div id=\"df-46ea2c2e-ce4c-47cd-a933-b647ca485d2d\">\n",
              "    <div class=\"colab-df-container\">\n",
              "      <div>\n",
              "<style scoped>\n",
              "    .dataframe tbody tr th:only-of-type {\n",
              "        vertical-align: middle;\n",
              "    }\n",
              "\n",
              "    .dataframe tbody tr th {\n",
              "        vertical-align: top;\n",
              "    }\n",
              "\n",
              "    .dataframe thead th {\n",
              "        text-align: right;\n",
              "    }\n",
              "</style>\n",
              "<table border=\"1\" class=\"dataframe\">\n",
              "  <thead>\n",
              "    <tr style=\"text-align: right;\">\n",
              "      <th></th>\n",
              "      <th>id</th>\n",
              "      <th>hashtag</th>\n",
              "      <th>votes</th>\n",
              "      <th>hard</th>\n",
              "      <th>sentiment</th>\n",
              "      <th>group</th>\n",
              "      <th>text</th>\n",
              "      <th>repeat</th>\n",
              "      <th>text_clean</th>\n",
              "      <th>text_lemma</th>\n",
              "      <th>text_lemma_2</th>\n",
              "    </tr>\n",
              "  </thead>\n",
              "  <tbody>\n",
              "    <tr>\n",
              "      <th>0</th>\n",
              "      <td>863044774588272640</td>\n",
              "      <td>#encontro</td>\n",
              "      <td>[1, 1, 1, 1, 1, 1, 1]</td>\n",
              "      <td>0</td>\n",
              "      <td>2</td>\n",
              "      <td>test</td>\n",
              "      <td>que coisa linda O programa estava mostrando uma familia que adotou um adolescente de NUMBER anos que amor !</td>\n",
              "      <td>False</td>\n",
              "      <td>coisa linda programa mostrando familia adotou adolescente anos amor</td>\n",
              "      <td>coisa lindo programa mostrar familia adotar adolescente ano amor</td>\n",
              "      <td>coisar lindar programar mostrar familia adotar adolescente ano amor</td>\n",
              "    </tr>\n",
              "    <tr>\n",
              "      <th>1</th>\n",
              "      <td>865583716088766464</td>\n",
              "      <td>#encontro</td>\n",
              "      <td>[1, 1, 1, 1, 1, 1, 1]</td>\n",
              "      <td>0</td>\n",
              "      <td>2</td>\n",
              "      <td>test</td>\n",
              "      <td>por mais com as irmãs galvão adorei elas</td>\n",
              "      <td>False</td>\n",
              "      <td>irmãs galvão adorei</td>\n",
              "      <td>irmã galvão ador</td>\n",
              "      <td>irmão galvão adorar</td>\n",
              "    </tr>\n",
              "    <tr>\n",
              "      <th>2</th>\n",
              "      <td>865063232201011200</td>\n",
              "      <td>#TheNoite</td>\n",
              "      <td>[1, 0, 1, 1, 1, 0, 0]</td>\n",
              "      <td>2</td>\n",
              "      <td>2</td>\n",
              "      <td>test</td>\n",
              "      <td>mr CATRA USERNAME lançando sua nova música PPK CHORA no USERNAME k k k 👅 😉 #MrCatra #PpkChora</td>\n",
              "      <td>False</td>\n",
              "      <td>mr catra lançando nova música ppk chora k k k mrcatra ppkchora</td>\n",
              "      <td>mr catra lançar novo música ppk chorar k k k mrcatra ppkchora</td>\n",
              "      <td>mr catra lançar novo músico ppk chorar k k k mrcatra ppkchora</td>\n",
              "    </tr>\n",
              "    <tr>\n",
              "      <th>3</th>\n",
              "      <td>864668391008763904</td>\n",
              "      <td>#masterchefbr</td>\n",
              "      <td>[0, 0, 0, 0, 0, 0, 0]</td>\n",
              "      <td>0</td>\n",
              "      <td>1</td>\n",
              "      <td>test</td>\n",
              "      <td>quem viu aquela lutadora modela barbuda tatuada #MasterChefBR</td>\n",
              "      <td>False</td>\n",
              "      <td>viu lutadora modela barbuda tatuada masterchefbr</td>\n",
              "      <td>ver lutadora modelar barbuda tatuar masterchefbr</td>\n",
              "      <td>ver lutador modelar barbudo tatuado masterchefbr</td>\n",
              "    </tr>\n",
              "    <tr>\n",
              "      <th>4</th>\n",
              "      <td>865572794016378880</td>\n",
              "      <td>#encontro</td>\n",
              "      <td>[-1, -1, -1, -1, -1, -1, -1]</td>\n",
              "      <td>0</td>\n",
              "      <td>0</td>\n",
              "      <td>test</td>\n",
              "      <td>tô passada com esse cara quanta merda pode sair da boca de alguém em alguns minutos 😠</td>\n",
              "      <td>False</td>\n",
              "      <td>tô passada cara quanta merda pode sair boca alguém alguns minutos</td>\n",
              "      <td>tô passado cara quanto merdo poder sair boca alguém algum minuto</td>\n",
              "      <td>tô passado caro quanto merda poder sair bocar alguém algum minuto</td>\n",
              "    </tr>\n",
              "  </tbody>\n",
              "</table>\n",
              "</div>\n",
              "      <button class=\"colab-df-convert\" onclick=\"convertToInteractive('df-46ea2c2e-ce4c-47cd-a933-b647ca485d2d')\"\n",
              "              title=\"Convert this dataframe to an interactive table.\"\n",
              "              style=\"display:none;\">\n",
              "        \n",
              "  <svg xmlns=\"http://www.w3.org/2000/svg\" height=\"24px\"viewBox=\"0 0 24 24\"\n",
              "       width=\"24px\">\n",
              "    <path d=\"M0 0h24v24H0V0z\" fill=\"none\"/>\n",
              "    <path d=\"M18.56 5.44l.94 2.06.94-2.06 2.06-.94-2.06-.94-.94-2.06-.94 2.06-2.06.94zm-11 1L8.5 8.5l.94-2.06 2.06-.94-2.06-.94L8.5 2.5l-.94 2.06-2.06.94zm10 10l.94 2.06.94-2.06 2.06-.94-2.06-.94-.94-2.06-.94 2.06-2.06.94z\"/><path d=\"M17.41 7.96l-1.37-1.37c-.4-.4-.92-.59-1.43-.59-.52 0-1.04.2-1.43.59L10.3 9.45l-7.72 7.72c-.78.78-.78 2.05 0 2.83L4 21.41c.39.39.9.59 1.41.59.51 0 1.02-.2 1.41-.59l7.78-7.78 2.81-2.81c.8-.78.8-2.07 0-2.86zM5.41 20L4 18.59l7.72-7.72 1.47 1.35L5.41 20z\"/>\n",
              "  </svg>\n",
              "      </button>\n",
              "      \n",
              "  <style>\n",
              "    .colab-df-container {\n",
              "      display:flex;\n",
              "      flex-wrap:wrap;\n",
              "      gap: 12px;\n",
              "    }\n",
              "\n",
              "    .colab-df-convert {\n",
              "      background-color: #E8F0FE;\n",
              "      border: none;\n",
              "      border-radius: 50%;\n",
              "      cursor: pointer;\n",
              "      display: none;\n",
              "      fill: #1967D2;\n",
              "      height: 32px;\n",
              "      padding: 0 0 0 0;\n",
              "      width: 32px;\n",
              "    }\n",
              "\n",
              "    .colab-df-convert:hover {\n",
              "      background-color: #E2EBFA;\n",
              "      box-shadow: 0px 1px 2px rgba(60, 64, 67, 0.3), 0px 1px 3px 1px rgba(60, 64, 67, 0.15);\n",
              "      fill: #174EA6;\n",
              "    }\n",
              "\n",
              "    [theme=dark] .colab-df-convert {\n",
              "      background-color: #3B4455;\n",
              "      fill: #D2E3FC;\n",
              "    }\n",
              "\n",
              "    [theme=dark] .colab-df-convert:hover {\n",
              "      background-color: #434B5C;\n",
              "      box-shadow: 0px 1px 3px 1px rgba(0, 0, 0, 0.15);\n",
              "      filter: drop-shadow(0px 1px 2px rgba(0, 0, 0, 0.3));\n",
              "      fill: #FFFFFF;\n",
              "    }\n",
              "  </style>\n",
              "\n",
              "      <script>\n",
              "        const buttonEl =\n",
              "          document.querySelector('#df-46ea2c2e-ce4c-47cd-a933-b647ca485d2d button.colab-df-convert');\n",
              "        buttonEl.style.display =\n",
              "          google.colab.kernel.accessAllowed ? 'block' : 'none';\n",
              "\n",
              "        async function convertToInteractive(key) {\n",
              "          const element = document.querySelector('#df-46ea2c2e-ce4c-47cd-a933-b647ca485d2d');\n",
              "          const dataTable =\n",
              "            await google.colab.kernel.invokeFunction('convertToInteractive',\n",
              "                                                     [key], {});\n",
              "          if (!dataTable) return;\n",
              "\n",
              "          const docLinkHtml = 'Like what you see? Visit the ' +\n",
              "            '<a target=\"_blank\" href=https://colab.research.google.com/notebooks/data_table.ipynb>data table notebook</a>'\n",
              "            + ' to learn more about interactive tables.';\n",
              "          element.innerHTML = '';\n",
              "          dataTable['output_type'] = 'display_data';\n",
              "          await google.colab.output.renderOutput(dataTable, element);\n",
              "          const docLink = document.createElement('div');\n",
              "          docLink.innerHTML = docLinkHtml;\n",
              "          element.appendChild(docLink);\n",
              "        }\n",
              "      </script>\n",
              "    </div>\n",
              "  </div>\n",
              "  "
            ],
            "text/plain": [
              "                   id        hashtag                         votes  hard  \\\n",
              "0  863044774588272640      #encontro         [1, 1, 1, 1, 1, 1, 1]     0   \n",
              "1  865583716088766464      #encontro         [1, 1, 1, 1, 1, 1, 1]     0   \n",
              "2  865063232201011200      #TheNoite         [1, 0, 1, 1, 1, 0, 0]     2   \n",
              "3  864668391008763904  #masterchefbr         [0, 0, 0, 0, 0, 0, 0]     0   \n",
              "4  865572794016378880      #encontro  [-1, -1, -1, -1, -1, -1, -1]     0   \n",
              "\n",
              "   sentiment group  \\\n",
              "0          2  test   \n",
              "1          2  test   \n",
              "2          2  test   \n",
              "3          1  test   \n",
              "4          0  test   \n",
              "\n",
              "                                                                                                          text  \\\n",
              "0  que coisa linda O programa estava mostrando uma familia que adotou um adolescente de NUMBER anos que amor !   \n",
              "1                                                                     por mais com as irmãs galvão adorei elas   \n",
              "2                mr CATRA USERNAME lançando sua nova música PPK CHORA no USERNAME k k k 👅 😉 #MrCatra #PpkChora   \n",
              "3                                                quem viu aquela lutadora modela barbuda tatuada #MasterChefBR   \n",
              "4                        tô passada com esse cara quanta merda pode sair da boca de alguém em alguns minutos 😠   \n",
              "\n",
              "   repeat  \\\n",
              "0   False   \n",
              "1   False   \n",
              "2   False   \n",
              "3   False   \n",
              "4   False   \n",
              "\n",
              "                                                            text_clean  \\\n",
              "0  coisa linda programa mostrando familia adotou adolescente anos amor   \n",
              "1                                                  irmãs galvão adorei   \n",
              "2       mr catra lançando nova música ppk chora k k k mrcatra ppkchora   \n",
              "3                     viu lutadora modela barbuda tatuada masterchefbr   \n",
              "4    tô passada cara quanta merda pode sair boca alguém alguns minutos   \n",
              "\n",
              "                                                         text_lemma  \\\n",
              "0  coisa lindo programa mostrar familia adotar adolescente ano amor   \n",
              "1                                                  irmã galvão ador   \n",
              "2     mr catra lançar novo música ppk chorar k k k mrcatra ppkchora   \n",
              "3                  ver lutadora modelar barbuda tatuar masterchefbr   \n",
              "4  tô passado cara quanto merdo poder sair boca alguém algum minuto   \n",
              "\n",
              "                                                          text_lemma_2  \n",
              "0  coisar lindar programar mostrar familia adotar adolescente ano amor  \n",
              "1                                                  irmão galvão adorar  \n",
              "2        mr catra lançar novo músico ppk chorar k k k mrcatra ppkchora  \n",
              "3                     ver lutador modelar barbudo tatuado masterchefbr  \n",
              "4    tô passado caro quanto merda poder sair bocar alguém algum minuto  "
            ]
          },
          "execution_count": 21,
          "metadata": {},
          "output_type": "execute_result"
        }
      ],
      "source": [
        "tweets_df['text_lemma_2'] = [text_lemmatizer(linha, lang='pt') for linha in tweets_df['text_clean']] #lematizando o texto\n",
        "tweets_df['text_lemma_2'] = [' '.join(palavra) for palavra in tweets_df['text_lemma_2']] #juntando o texto novamente\n",
        "tweets_df.head()"
      ]
    },
    {
      "cell_type": "markdown",
      "metadata": {
        "id": "uwwdrMuHNhOC"
      },
      "source": [
        "## Trabalhando no equilibrio dos dados"
      ]
    },
    {
      "cell_type": "markdown",
      "metadata": {
        "id": "f61eb--VNhOC"
      },
      "source": [
        "### Iniciando o trabalho de balanceamento dos dados"
      ]
    },
    {
      "cell_type": "code",
      "execution_count": 22,
      "metadata": {
        "colab": {
          "base_uri": "https://localhost:8080/"
        },
        "id": "EK9eRTZkdtcA",
        "outputId": "590f9b02-dce1-49b5-e0da-54e0751f58c3"
      },
      "outputs": [
        {
          "data": {
            "text/plain": [
              "[4426, 3926, 6648]"
            ]
          },
          "execution_count": 22,
          "metadata": {},
          "output_type": "execute_result"
        }
      ],
      "source": [
        "# criando a lista sentimentos (com as quantidades das classes)\n",
        "sentimentos = []\n",
        "sentimentos.append(tweets_df.loc[tweets_df['sentiment'] == 0]['sentiment'].count())\n",
        "sentimentos.append(tweets_df.loc[tweets_df['sentiment'] == 1]['sentiment'].count())\n",
        "sentimentos.append(tweets_df.loc[tweets_df['sentiment'] == 2]['sentiment'].count())\n",
        "\n",
        "sentimentos"
      ]
    },
    {
      "cell_type": "code",
      "execution_count": 23,
      "metadata": {
        "colab": {
          "base_uri": "https://localhost:8080/"
        },
        "id": "xZFQUry9dvTv",
        "outputId": "86a589a1-abd2-407b-8aac-f13164f56869"
      },
      "outputs": [
        {
          "data": {
            "text/plain": [
              "[3926, 4426, 6648]"
            ]
          },
          "execution_count": 23,
          "metadata": {},
          "output_type": "execute_result"
        }
      ],
      "source": [
        "# colacando a lista sentimento em ordem (minoria, meio, maioria)\n",
        "sentimentos.sort()\n",
        "sentimentos"
      ]
    },
    {
      "cell_type": "code",
      "execution_count": 24,
      "metadata": {
        "id": "cTEz8TzIdxiV"
      },
      "outputs": [],
      "source": [
        "# instanciando as classes de sentimentos\n",
        "sent = [0, 0, 0]\n",
        "for i in range(len(sentimentos)):\n",
        "  for j in range(len(sentimentos)):\n",
        "    if sentimentos[i] == tweets_df.loc[tweets_df['sentiment'] == j]['sentiment'].count():\n",
        "      sent[i] = tweets_df.loc[tweets_df['sentiment'] == j]\n",
        "\n",
        "minoria = sent[0]\n",
        "meio = sent[1]\n",
        "maioria = sent[2]"
      ]
    },
    {
      "cell_type": "code",
      "execution_count": 25,
      "metadata": {
        "colab": {
          "base_uri": "https://localhost:8080/"
        },
        "id": "gUW-Ev9dNhOD",
        "outputId": "6ee770b8-f079-4405-f3e2-dcc7f2b6fe0b"
      },
      "outputs": [
        {
          "name": "stdout",
          "output_type": "stream",
          "text": [
            "Maioria \n",
            "6648\n",
            "\n",
            "Meio \n",
            "4426\n",
            "\n",
            "Minoria \n",
            "3926\n"
          ]
        }
      ],
      "source": [
        "print('Maioria \\n{}\\n'.format(maioria['sentiment'].count()))\n",
        "print('Meio \\n{}\\n'.format(meio['sentiment'].count()))\n",
        "print('Minoria \\n{}'.format(minoria['sentiment'].count()))"
      ]
    },
    {
      "cell_type": "markdown",
      "metadata": {
        "id": "a6fQK3FcNhOD"
      },
      "source": [
        "## Igualar a quantidade de tweets entre positivo, negativo e neutro"
      ]
    },
    {
      "cell_type": "markdown",
      "metadata": {
        "id": "HCOG__glNhOD"
      },
      "source": [
        "#### Oversampling (Criando datasets reorganizados para maioria)"
      ]
    },
    {
      "cell_type": "code",
      "execution_count": 26,
      "metadata": {
        "id": "7cDATKqHNhOD"
      },
      "outputs": [],
      "source": [
        "from sklearn.utils import resample\n",
        "\n",
        "menor_maior = resample(minoria, replace=True, n_samples=len(maioria), random_state=123)\n",
        "meio_maior = resample(meio, replace=True, n_samples=len(maioria), random_state=123)"
      ]
    },
    {
      "cell_type": "code",
      "execution_count": 27,
      "metadata": {
        "colab": {
          "base_uri": "https://localhost:8080/"
        },
        "id": "lpBMeffwNhOE",
        "outputId": "93f97a71-d7ac-471c-bd3a-1af43c235519"
      },
      "outputs": [
        {
          "name": "stdout",
          "output_type": "stream",
          "text": [
            "id              6648\n",
            "hashtag         6648\n",
            "votes           6648\n",
            "hard            6648\n",
            "sentiment       6648\n",
            "group           6648\n",
            "text            6648\n",
            "repeat          6648\n",
            "text_clean      6648\n",
            "text_lemma      6648\n",
            "text_lemma_2    6648\n",
            "dtype: int64 id              6648\n",
            "hashtag         6648\n",
            "votes           6648\n",
            "hard            6648\n",
            "sentiment       6648\n",
            "group           6648\n",
            "text            6648\n",
            "repeat          6648\n",
            "text_clean      6648\n",
            "text_lemma      6648\n",
            "text_lemma_2    6648\n",
            "dtype: int64 id              6648\n",
            "hashtag         6648\n",
            "votes           6648\n",
            "hard            6648\n",
            "sentiment       6648\n",
            "group           6648\n",
            "text            6648\n",
            "repeat          6648\n",
            "text_clean      6648\n",
            "text_lemma      6648\n",
            "text_lemma_2    6648\n",
            "dtype: int64\n"
          ]
        }
      ],
      "source": [
        "print(menor_maior.count(), meio_maior.count(), maioria.count())"
      ]
    },
    {
      "cell_type": "code",
      "execution_count": 28,
      "metadata": {
        "id": "o5v6ofKtNhOE"
      },
      "outputs": [],
      "source": [
        "# juntando os dataframes\n",
        "tweets_df_equilibrado_maior = pd.concat([menor_maior, meio_maior, maioria])\n",
        "\n",
        "# resetando o index\n",
        "tweets_df_equilibrado_maior = tweets_df_equilibrado_maior.reset_index()\n",
        "\n",
        "# removendo as colunas Unnamed: 0 e index\n",
        "tweets_df_equilibrado_maior.drop(columns=['index'], inplace=True)"
      ]
    },
    {
      "cell_type": "code",
      "execution_count": 29,
      "metadata": {
        "colab": {
          "base_uri": "https://localhost:8080/",
          "height": 0
        },
        "id": "YjkKlJTXNhOE",
        "outputId": "5fbea1d5-0e4e-4088-93cf-f6019c3c8e1a"
      },
      "outputs": [
        {
          "data": {
            "text/html": [
              "\n",
              "  <div id=\"df-01d82f14-f51c-4b3e-afea-07951587742a\">\n",
              "    <div class=\"colab-df-container\">\n",
              "      <div>\n",
              "<style scoped>\n",
              "    .dataframe tbody tr th:only-of-type {\n",
              "        vertical-align: middle;\n",
              "    }\n",
              "\n",
              "    .dataframe tbody tr th {\n",
              "        vertical-align: top;\n",
              "    }\n",
              "\n",
              "    .dataframe thead th {\n",
              "        text-align: right;\n",
              "    }\n",
              "</style>\n",
              "<table border=\"1\" class=\"dataframe\">\n",
              "  <thead>\n",
              "    <tr style=\"text-align: right;\">\n",
              "      <th></th>\n",
              "      <th>id</th>\n",
              "      <th>hashtag</th>\n",
              "      <th>votes</th>\n",
              "      <th>hard</th>\n",
              "      <th>group</th>\n",
              "      <th>text</th>\n",
              "      <th>repeat</th>\n",
              "      <th>text_clean</th>\n",
              "      <th>text_lemma</th>\n",
              "      <th>text_lemma_2</th>\n",
              "    </tr>\n",
              "    <tr>\n",
              "      <th>sentiment</th>\n",
              "      <th></th>\n",
              "      <th></th>\n",
              "      <th></th>\n",
              "      <th></th>\n",
              "      <th></th>\n",
              "      <th></th>\n",
              "      <th></th>\n",
              "      <th></th>\n",
              "      <th></th>\n",
              "      <th></th>\n",
              "    </tr>\n",
              "  </thead>\n",
              "  <tbody>\n",
              "    <tr>\n",
              "      <th>0</th>\n",
              "      <td>6648</td>\n",
              "      <td>6648</td>\n",
              "      <td>6648</td>\n",
              "      <td>6648</td>\n",
              "      <td>6648</td>\n",
              "      <td>6648</td>\n",
              "      <td>6648</td>\n",
              "      <td>6648</td>\n",
              "      <td>6648</td>\n",
              "      <td>6648</td>\n",
              "    </tr>\n",
              "    <tr>\n",
              "      <th>1</th>\n",
              "      <td>6648</td>\n",
              "      <td>6648</td>\n",
              "      <td>6648</td>\n",
              "      <td>6648</td>\n",
              "      <td>6648</td>\n",
              "      <td>6648</td>\n",
              "      <td>6648</td>\n",
              "      <td>6648</td>\n",
              "      <td>6648</td>\n",
              "      <td>6648</td>\n",
              "    </tr>\n",
              "    <tr>\n",
              "      <th>2</th>\n",
              "      <td>6648</td>\n",
              "      <td>6648</td>\n",
              "      <td>6648</td>\n",
              "      <td>6648</td>\n",
              "      <td>6648</td>\n",
              "      <td>6648</td>\n",
              "      <td>6648</td>\n",
              "      <td>6648</td>\n",
              "      <td>6648</td>\n",
              "      <td>6648</td>\n",
              "    </tr>\n",
              "  </tbody>\n",
              "</table>\n",
              "</div>\n",
              "      <button class=\"colab-df-convert\" onclick=\"convertToInteractive('df-01d82f14-f51c-4b3e-afea-07951587742a')\"\n",
              "              title=\"Convert this dataframe to an interactive table.\"\n",
              "              style=\"display:none;\">\n",
              "        \n",
              "  <svg xmlns=\"http://www.w3.org/2000/svg\" height=\"24px\"viewBox=\"0 0 24 24\"\n",
              "       width=\"24px\">\n",
              "    <path d=\"M0 0h24v24H0V0z\" fill=\"none\"/>\n",
              "    <path d=\"M18.56 5.44l.94 2.06.94-2.06 2.06-.94-2.06-.94-.94-2.06-.94 2.06-2.06.94zm-11 1L8.5 8.5l.94-2.06 2.06-.94-2.06-.94L8.5 2.5l-.94 2.06-2.06.94zm10 10l.94 2.06.94-2.06 2.06-.94-2.06-.94-.94-2.06-.94 2.06-2.06.94z\"/><path d=\"M17.41 7.96l-1.37-1.37c-.4-.4-.92-.59-1.43-.59-.52 0-1.04.2-1.43.59L10.3 9.45l-7.72 7.72c-.78.78-.78 2.05 0 2.83L4 21.41c.39.39.9.59 1.41.59.51 0 1.02-.2 1.41-.59l7.78-7.78 2.81-2.81c.8-.78.8-2.07 0-2.86zM5.41 20L4 18.59l7.72-7.72 1.47 1.35L5.41 20z\"/>\n",
              "  </svg>\n",
              "      </button>\n",
              "      \n",
              "  <style>\n",
              "    .colab-df-container {\n",
              "      display:flex;\n",
              "      flex-wrap:wrap;\n",
              "      gap: 12px;\n",
              "    }\n",
              "\n",
              "    .colab-df-convert {\n",
              "      background-color: #E8F0FE;\n",
              "      border: none;\n",
              "      border-radius: 50%;\n",
              "      cursor: pointer;\n",
              "      display: none;\n",
              "      fill: #1967D2;\n",
              "      height: 32px;\n",
              "      padding: 0 0 0 0;\n",
              "      width: 32px;\n",
              "    }\n",
              "\n",
              "    .colab-df-convert:hover {\n",
              "      background-color: #E2EBFA;\n",
              "      box-shadow: 0px 1px 2px rgba(60, 64, 67, 0.3), 0px 1px 3px 1px rgba(60, 64, 67, 0.15);\n",
              "      fill: #174EA6;\n",
              "    }\n",
              "\n",
              "    [theme=dark] .colab-df-convert {\n",
              "      background-color: #3B4455;\n",
              "      fill: #D2E3FC;\n",
              "    }\n",
              "\n",
              "    [theme=dark] .colab-df-convert:hover {\n",
              "      background-color: #434B5C;\n",
              "      box-shadow: 0px 1px 3px 1px rgba(0, 0, 0, 0.15);\n",
              "      filter: drop-shadow(0px 1px 2px rgba(0, 0, 0, 0.3));\n",
              "      fill: #FFFFFF;\n",
              "    }\n",
              "  </style>\n",
              "\n",
              "      <script>\n",
              "        const buttonEl =\n",
              "          document.querySelector('#df-01d82f14-f51c-4b3e-afea-07951587742a button.colab-df-convert');\n",
              "        buttonEl.style.display =\n",
              "          google.colab.kernel.accessAllowed ? 'block' : 'none';\n",
              "\n",
              "        async function convertToInteractive(key) {\n",
              "          const element = document.querySelector('#df-01d82f14-f51c-4b3e-afea-07951587742a');\n",
              "          const dataTable =\n",
              "            await google.colab.kernel.invokeFunction('convertToInteractive',\n",
              "                                                     [key], {});\n",
              "          if (!dataTable) return;\n",
              "\n",
              "          const docLinkHtml = 'Like what you see? Visit the ' +\n",
              "            '<a target=\"_blank\" href=https://colab.research.google.com/notebooks/data_table.ipynb>data table notebook</a>'\n",
              "            + ' to learn more about interactive tables.';\n",
              "          element.innerHTML = '';\n",
              "          dataTable['output_type'] = 'display_data';\n",
              "          await google.colab.output.renderOutput(dataTable, element);\n",
              "          const docLink = document.createElement('div');\n",
              "          docLink.innerHTML = docLinkHtml;\n",
              "          element.appendChild(docLink);\n",
              "        }\n",
              "      </script>\n",
              "    </div>\n",
              "  </div>\n",
              "  "
            ],
            "text/plain": [
              "             id  hashtag  votes  hard  group  text  repeat  text_clean  \\\n",
              "sentiment                                                                \n",
              "0          6648     6648   6648  6648   6648  6648    6648        6648   \n",
              "1          6648     6648   6648  6648   6648  6648    6648        6648   \n",
              "2          6648     6648   6648  6648   6648  6648    6648        6648   \n",
              "\n",
              "           text_lemma  text_lemma_2  \n",
              "sentiment                            \n",
              "0                6648          6648  \n",
              "1                6648          6648  \n",
              "2                6648          6648  "
            ]
          },
          "execution_count": 29,
          "metadata": {},
          "output_type": "execute_result"
        }
      ],
      "source": [
        "tweets_df_equilibrado_maior.groupby(['sentiment']).count()"
      ]
    },
    {
      "cell_type": "markdown",
      "metadata": {
        "id": "7E5qF6W9ESYP"
      },
      "source": [
        "# Machine Learning - Utils"
      ]
    },
    {
      "cell_type": "code",
      "execution_count": 30,
      "metadata": {
        "id": "EC1iyGUYESYP"
      },
      "outputs": [],
      "source": [
        "from sklearn.model_selection import train_test_split\n",
        "from sklearn.pipeline import Pipeline\n",
        "\n",
        "# Vetorizadores\n",
        "from sklearn.feature_extraction.text import TfidfVectorizer\n",
        "\n",
        "# Classificadores\n",
        "from sklearn.linear_model import LogisticRegression"
      ]
    },
    {
      "cell_type": "code",
      "execution_count": 31,
      "metadata": {
        "id": "ZeNfdhtRLbHy"
      },
      "outputs": [],
      "source": [
        "# Tokenização especial para tweets\n",
        "from nltk.tokenize import TweetTokenizer\n",
        "\n",
        "tweet_tokenizer = TweetTokenizer()"
      ]
    },
    {
      "cell_type": "markdown",
      "metadata": {
        "id": "mAhiDgIrESYR"
      },
      "source": [
        "# Machine Learning - Construindo modelo com dados oversampling"
      ]
    },
    {
      "cell_type": "code",
      "execution_count": 32,
      "metadata": {
        "id": "xATS-5-gESYR"
      },
      "outputs": [],
      "source": [
        "X = tweets_df_equilibrado_maior['text_lemma_2']\n",
        "y = tweets_df_equilibrado_maior['sentiment']"
      ]
    },
    {
      "cell_type": "code",
      "execution_count": 33,
      "metadata": {
        "colab": {
          "base_uri": "https://localhost:8080/"
        },
        "id": "ZtC2rc4Aknwz",
        "outputId": "3d98b5ee-81aa-43a9-c5b5-818d509f59dd"
      },
      "outputs": [
        {
          "data": {
            "text/plain": [
              "((19944,), (19944,))"
            ]
          },
          "execution_count": 33,
          "metadata": {},
          "output_type": "execute_result"
        }
      ],
      "source": [
        "X.shape, y.shape"
      ]
    },
    {
      "cell_type": "markdown",
      "metadata": {
        "id": "GZs4RIN1ksHH"
      },
      "source": [
        "### Separando dados para o treino e para o teste"
      ]
    },
    {
      "cell_type": "code",
      "execution_count": 34,
      "metadata": {
        "colab": {
          "base_uri": "https://localhost:8080/"
        },
        "id": "GWT0HMp4ks0F",
        "outputId": "3812f522-f20a-4093-fa98-ef0b18a30b9d"
      },
      "outputs": [
        {
          "data": {
            "text/plain": [
              "((14958,), (14958,), (4986,), (4986,))"
            ]
          },
          "execution_count": 34,
          "metadata": {},
          "output_type": "execute_result"
        }
      ],
      "source": [
        "X_train, X_test, y_train, y_test = train_test_split(X, y, test_size=0.25, random_state=123)\n",
        "X_train.shape, y_train.shape, X_test.shape, y_test.shape"
      ]
    },
    {
      "cell_type": "code",
      "execution_count": 38,
      "metadata": {
        "id": "MIBvr6cJbzyd"
      },
      "outputs": [],
      "source": [
        "parameters = {'modelo__penalty':['l1', 'l2'], \n",
        "              'modelo__C':np.logspace(-3,3,7)}"
      ]
    },
    {
      "cell_type": "code",
      "execution_count": 39,
      "metadata": {
        "id": "XLCJh1Otddsj"
      },
      "outputs": [],
      "source": [
        "modelo = Pipeline(steps=[\n",
        "             ('vectorizer' , TfidfVectorizer(analyzer=\"word\", tokenizer=tweet_tokenizer.tokenize)),\n",
        "            ('modelo', LogisticRegression(solver='liblinear'))\n",
        "            ])"
      ]
    },
    {
      "cell_type": "code",
      "execution_count": 40,
      "metadata": {
        "colab": {
          "base_uri": "https://localhost:8080/"
        },
        "id": "hTC0iGth-rTC",
        "outputId": "3a7b686d-631f-466b-9b91-a6685a200766"
      },
      "outputs": [
        {
          "name": "stdout",
          "output_type": "stream",
          "text": [
            "Looking in indexes: https://pypi.org/simple, https://us-python.pkg.dev/colab-wheels/public/simple/\n",
            "Collecting searchgrid\n",
            "  Downloading searchgrid-0.2.0.tar.gz (6.2 kB)\n",
            "  Preparing metadata (setup.py) ... \u001b[?25l\u001b[?25hdone\n",
            "Requirement already satisfied: numpy in /usr/local/lib/python3.7/dist-packages (from searchgrid) (1.21.6)\n",
            "Requirement already satisfied: scipy in /usr/local/lib/python3.7/dist-packages (from searchgrid) (1.7.3)\n",
            "Collecting scikit-learn~=0.18\n",
            "  Downloading scikit_learn-0.24.2-cp37-cp37m-manylinux2010_x86_64.whl (22.3 MB)\n",
            "\u001b[2K     \u001b[90m━━━━━━━━━━━━━━━━━━━━━━━━━━━━━━━━━━━━━━━━\u001b[0m \u001b[32m22.3/22.3 MB\u001b[0m \u001b[31m50.7 MB/s\u001b[0m eta \u001b[36m0:00:00\u001b[0m\n",
            "\u001b[?25hRequirement already satisfied: joblib>=0.11 in /usr/local/lib/python3.7/dist-packages (from scikit-learn~=0.18->searchgrid) (1.1.0)\n",
            "Requirement already satisfied: threadpoolctl>=2.0.0 in /usr/local/lib/python3.7/dist-packages (from scikit-learn~=0.18->searchgrid) (3.1.0)\n",
            "Building wheels for collected packages: searchgrid\n",
            "  Building wheel for searchgrid (setup.py) ... \u001b[?25l\u001b[?25hdone\n",
            "  Created wheel for searchgrid: filename=searchgrid-0.2.0-py3-none-any.whl size=5747 sha256=c5551a8385a8286b3746ef62ce2f3a6c11f16a3d77796ffd5039264eebaa1007\n",
            "  Stored in directory: /root/.cache/pip/wheels/2b/dc/34/7c849b7da28bce9e557817b9b966fb4037c5cf3b3e035bacf9\n",
            "Successfully built searchgrid\n",
            "Installing collected packages: scikit-learn, searchgrid\n",
            "  Attempting uninstall: scikit-learn\n",
            "    Found existing installation: scikit-learn 1.0.2\n",
            "    Uninstalling scikit-learn-1.0.2:\n",
            "      Successfully uninstalled scikit-learn-1.0.2\n",
            "\u001b[31mERROR: pip's dependency resolver does not currently take into account all the packages that are installed. This behaviour is the source of the following dependency conflicts.\n",
            "yellowbrick 1.4 requires scikit-learn>=1.0.0, but you have scikit-learn 0.24.2 which is incompatible.\u001b[0m\u001b[31m\n",
            "\u001b[0mSuccessfully installed scikit-learn-0.24.2 searchgrid-0.2.0\n",
            "\u001b[33mWARNING: Running pip as the 'root' user can result in broken permissions and conflicting behaviour with the system package manager. It is recommended to use a virtual environment instead: https://pip.pypa.io/warnings/venv\u001b[0m\u001b[33m\n",
            "\u001b[0m"
          ]
        }
      ],
      "source": [
        "!pip install searchgrid"
      ]
    },
    {
      "cell_type": "code",
      "execution_count": 41,
      "metadata": {
        "colab": {
          "base_uri": "https://localhost:8080/"
        },
        "id": "gWQGvl6n_XPk",
        "outputId": "95f95aff-9209-44f6-8a37-2763cccfe2a3"
      },
      "outputs": [
        {
          "name": "stdout",
          "output_type": "stream",
          "text": [
            "Fitting 5 folds for each of 14 candidates, totalling 70 fits\n",
            "[CV 1/5] END modelo__C=0.001, modelo__penalty=l1;, score=0.334 total time=   0.7s\n",
            "[CV 2/5] END modelo__C=0.001, modelo__penalty=l1;, score=0.334 total time=   0.9s\n",
            "[CV 3/5] END modelo__C=0.001, modelo__penalty=l1;, score=0.334 total time=   0.8s\n",
            "[CV 4/5] END modelo__C=0.001, modelo__penalty=l1;, score=0.334 total time=   0.9s\n",
            "[CV 5/5] END modelo__C=0.001, modelo__penalty=l1;, score=0.334 total time=   0.9s\n",
            "[CV 1/5] END modelo__C=0.001, modelo__penalty=l2;, score=0.583 total time=   0.8s\n",
            "[CV 2/5] END modelo__C=0.001, modelo__penalty=l2;, score=0.588 total time=   0.9s\n",
            "[CV 3/5] END modelo__C=0.001, modelo__penalty=l2;, score=0.588 total time=   1.8s\n",
            "[CV 4/5] END modelo__C=0.001, modelo__penalty=l2;, score=0.595 total time=   2.1s\n",
            "[CV 5/5] END modelo__C=0.001, modelo__penalty=l2;, score=0.595 total time=   2.0s\n",
            "[CV 1/5] END modelo__C=0.01, modelo__penalty=l1;, score=0.334 total time=   1.9s\n",
            "[CV 2/5] END modelo__C=0.01, modelo__penalty=l1;, score=0.334 total time=   2.3s\n",
            "[CV 3/5] END modelo__C=0.01, modelo__penalty=l1;, score=0.334 total time=   2.3s\n",
            "[CV 4/5] END modelo__C=0.01, modelo__penalty=l1;, score=0.334 total time=   1.9s\n",
            "[CV 5/5] END modelo__C=0.01, modelo__penalty=l1;, score=0.334 total time=   2.2s\n",
            "[CV 1/5] END modelo__C=0.01, modelo__penalty=l2;, score=0.617 total time=   1.7s\n",
            "[CV 2/5] END modelo__C=0.01, modelo__penalty=l2;, score=0.605 total time=   1.7s\n",
            "[CV 3/5] END modelo__C=0.01, modelo__penalty=l2;, score=0.610 total time=   2.0s\n",
            "[CV 4/5] END modelo__C=0.01, modelo__penalty=l2;, score=0.615 total time=   1.4s\n",
            "[CV 5/5] END modelo__C=0.01, modelo__penalty=l2;, score=0.613 total time=   0.8s\n",
            "[CV 1/5] END .modelo__C=0.1, modelo__penalty=l1;, score=0.507 total time=   0.8s\n",
            "[CV 2/5] END .modelo__C=0.1, modelo__penalty=l1;, score=0.521 total time=   0.8s\n",
            "[CV 3/5] END .modelo__C=0.1, modelo__penalty=l1;, score=0.515 total time=   0.8s\n",
            "[CV 4/5] END .modelo__C=0.1, modelo__penalty=l1;, score=0.520 total time=   0.8s\n",
            "[CV 5/5] END .modelo__C=0.1, modelo__penalty=l1;, score=0.509 total time=   0.8s\n",
            "[CV 1/5] END .modelo__C=0.1, modelo__penalty=l2;, score=0.648 total time=   0.8s\n",
            "[CV 2/5] END .modelo__C=0.1, modelo__penalty=l2;, score=0.647 total time=   0.8s\n",
            "[CV 3/5] END .modelo__C=0.1, modelo__penalty=l2;, score=0.640 total time=   0.8s\n",
            "[CV 4/5] END .modelo__C=0.1, modelo__penalty=l2;, score=0.654 total time=   0.8s\n",
            "[CV 5/5] END .modelo__C=0.1, modelo__penalty=l2;, score=0.641 total time=   0.8s\n",
            "[CV 1/5] END .modelo__C=1.0, modelo__penalty=l1;, score=0.652 total time=   0.9s\n",
            "[CV 2/5] END .modelo__C=1.0, modelo__penalty=l1;, score=0.666 total time=   0.9s\n",
            "[CV 3/5] END .modelo__C=1.0, modelo__penalty=l1;, score=0.654 total time=   0.8s\n",
            "[CV 4/5] END .modelo__C=1.0, modelo__penalty=l1;, score=0.675 total time=   0.8s\n",
            "[CV 5/5] END .modelo__C=1.0, modelo__penalty=l1;, score=0.655 total time=   0.8s\n",
            "[CV 1/5] END .modelo__C=1.0, modelo__penalty=l2;, score=0.706 total time=   0.9s\n",
            "[CV 2/5] END .modelo__C=1.0, modelo__penalty=l2;, score=0.706 total time=   0.9s\n",
            "[CV 3/5] END .modelo__C=1.0, modelo__penalty=l2;, score=0.696 total time=   0.9s\n",
            "[CV 4/5] END .modelo__C=1.0, modelo__penalty=l2;, score=0.723 total time=   0.9s\n",
            "[CV 5/5] END .modelo__C=1.0, modelo__penalty=l2;, score=0.709 total time=   0.9s\n",
            "[CV 1/5] END modelo__C=10.0, modelo__penalty=l1;, score=0.750 total time=   1.1s\n",
            "[CV 2/5] END modelo__C=10.0, modelo__penalty=l1;, score=0.752 total time=   1.1s\n",
            "[CV 3/5] END modelo__C=10.0, modelo__penalty=l1;, score=0.736 total time=   1.1s\n",
            "[CV 4/5] END modelo__C=10.0, modelo__penalty=l1;, score=0.760 total time=   1.5s\n",
            "[CV 5/5] END modelo__C=10.0, modelo__penalty=l1;, score=0.761 total time=   1.5s\n",
            "[CV 1/5] END modelo__C=10.0, modelo__penalty=l2;, score=0.746 total time=   0.9s\n",
            "[CV 2/5] END modelo__C=10.0, modelo__penalty=l2;, score=0.739 total time=   1.0s\n",
            "[CV 3/5] END modelo__C=10.0, modelo__penalty=l2;, score=0.737 total time=   1.0s\n",
            "[CV 4/5] END modelo__C=10.0, modelo__penalty=l2;, score=0.758 total time=   1.0s\n",
            "[CV 5/5] END modelo__C=10.0, modelo__penalty=l2;, score=0.749 total time=   1.0s\n",
            "[CV 1/5] END modelo__C=100.0, modelo__penalty=l1;, score=0.747 total time=   1.4s\n",
            "[CV 2/5] END modelo__C=100.0, modelo__penalty=l1;, score=0.744 total time=   1.5s\n",
            "[CV 3/5] END modelo__C=100.0, modelo__penalty=l1;, score=0.734 total time=   1.4s\n",
            "[CV 4/5] END modelo__C=100.0, modelo__penalty=l1;, score=0.747 total time=   1.4s\n",
            "[CV 5/5] END modelo__C=100.0, modelo__penalty=l1;, score=0.749 total time=   1.5s\n",
            "[CV 1/5] END modelo__C=100.0, modelo__penalty=l2;, score=0.757 total time=   1.2s\n",
            "[CV 2/5] END modelo__C=100.0, modelo__penalty=l2;, score=0.748 total time=   1.2s\n",
            "[CV 3/5] END modelo__C=100.0, modelo__penalty=l2;, score=0.735 total time=   1.2s\n",
            "[CV 4/5] END modelo__C=100.0, modelo__penalty=l2;, score=0.762 total time=   1.2s\n",
            "[CV 5/5] END modelo__C=100.0, modelo__penalty=l2;, score=0.756 total time=   1.2s\n",
            "[CV 1/5] END modelo__C=1000.0, modelo__penalty=l1;, score=0.739 total time=   2.2s\n",
            "[CV 2/5] END modelo__C=1000.0, modelo__penalty=l1;, score=0.745 total time=   2.0s\n",
            "[CV 3/5] END modelo__C=1000.0, modelo__penalty=l1;, score=0.732 total time=   1.7s\n",
            "[CV 4/5] END modelo__C=1000.0, modelo__penalty=l1;, score=0.744 total time=   1.9s\n",
            "[CV 5/5] END modelo__C=1000.0, modelo__penalty=l1;, score=0.748 total time=   2.1s\n",
            "[CV 1/5] END modelo__C=1000.0, modelo__penalty=l2;, score=0.743 total time=   1.6s\n",
            "[CV 2/5] END modelo__C=1000.0, modelo__penalty=l2;, score=0.744 total time=   1.6s\n",
            "[CV 3/5] END modelo__C=1000.0, modelo__penalty=l2;, score=0.733 total time=   1.6s\n",
            "[CV 4/5] END modelo__C=1000.0, modelo__penalty=l2;, score=0.750 total time=   1.9s\n",
            "[CV 5/5] END modelo__C=1000.0, modelo__penalty=l2;, score=0.753 total time=   1.6s\n"
          ]
        },
        {
          "data": {
            "text/plain": [
              "0.7516390749789476"
            ]
          },
          "execution_count": 41,
          "metadata": {},
          "output_type": "execute_result"
        }
      ],
      "source": [
        "from sklearn.model_selection import GridSearchCV\n",
        "\n",
        "clf = GridSearchCV(modelo, parameters, refit = 'accuracy', verbose = 3)\n",
        "clf.fit(X_train, y_train).best_score_"
      ]
    },
    {
      "cell_type": "code",
      "execution_count": 42,
      "metadata": {
        "id": "ibuyGVOnqTPX"
      },
      "outputs": [],
      "source": [
        "# Imprime colunas de interesse.\n",
        "df = pd.DataFrame(clf.cv_results_)[['params','rank_test_score','mean_test_score']]"
      ]
    },
    {
      "cell_type": "code",
      "execution_count": 43,
      "metadata": {
        "colab": {
          "base_uri": "https://localhost:8080/",
          "height": 488
        },
        "id": "0z7XRpYiX9Us",
        "outputId": "33104925-bf81-4f09-deb3-de688fbe62f6"
      },
      "outputs": [
        {
          "data": {
            "text/html": [
              "\n",
              "  <div id=\"df-f12dcac3-90c6-4d1c-868e-803c83fcecab\">\n",
              "    <div class=\"colab-df-container\">\n",
              "      <div>\n",
              "<style scoped>\n",
              "    .dataframe tbody tr th:only-of-type {\n",
              "        vertical-align: middle;\n",
              "    }\n",
              "\n",
              "    .dataframe tbody tr th {\n",
              "        vertical-align: top;\n",
              "    }\n",
              "\n",
              "    .dataframe thead th {\n",
              "        text-align: right;\n",
              "    }\n",
              "</style>\n",
              "<table border=\"1\" class=\"dataframe\">\n",
              "  <thead>\n",
              "    <tr style=\"text-align: right;\">\n",
              "      <th></th>\n",
              "      <th>params</th>\n",
              "      <th>rank_test_score</th>\n",
              "      <th>mean_test_score</th>\n",
              "    </tr>\n",
              "  </thead>\n",
              "  <tbody>\n",
              "    <tr>\n",
              "      <th>8</th>\n",
              "      <td>{'modelo__C': 10.0, 'modelo__penalty': 'l1'}</td>\n",
              "      <td>1</td>\n",
              "      <td>0.751639</td>\n",
              "    </tr>\n",
              "    <tr>\n",
              "      <th>11</th>\n",
              "      <td>{'modelo__C': 100.0, 'modelo__penalty': 'l2'}</td>\n",
              "      <td>2</td>\n",
              "      <td>0.751639</td>\n",
              "    </tr>\n",
              "    <tr>\n",
              "      <th>9</th>\n",
              "      <td>{'modelo__C': 10.0, 'modelo__penalty': 'l2'}</td>\n",
              "      <td>3</td>\n",
              "      <td>0.745756</td>\n",
              "    </tr>\n",
              "    <tr>\n",
              "      <th>13</th>\n",
              "      <td>{'modelo__C': 1000.0, 'modelo__penalty': 'l2'}</td>\n",
              "      <td>4</td>\n",
              "      <td>0.744485</td>\n",
              "    </tr>\n",
              "    <tr>\n",
              "      <th>10</th>\n",
              "      <td>{'modelo__C': 100.0, 'modelo__penalty': 'l1'}</td>\n",
              "      <td>5</td>\n",
              "      <td>0.744084</td>\n",
              "    </tr>\n",
              "    <tr>\n",
              "      <th>12</th>\n",
              "      <td>{'modelo__C': 1000.0, 'modelo__penalty': 'l1'}</td>\n",
              "      <td>6</td>\n",
              "      <td>0.741677</td>\n",
              "    </tr>\n",
              "    <tr>\n",
              "      <th>7</th>\n",
              "      <td>{'modelo__C': 1.0, 'modelo__penalty': 'l2'}</td>\n",
              "      <td>7</td>\n",
              "      <td>0.707716</td>\n",
              "    </tr>\n",
              "    <tr>\n",
              "      <th>6</th>\n",
              "      <td>{'modelo__C': 1.0, 'modelo__penalty': 'l1'}</td>\n",
              "      <td>8</td>\n",
              "      <td>0.660517</td>\n",
              "    </tr>\n",
              "    <tr>\n",
              "      <th>5</th>\n",
              "      <td>{'modelo__C': 0.1, 'modelo__penalty': 'l2'}</td>\n",
              "      <td>9</td>\n",
              "      <td>0.645875</td>\n",
              "    </tr>\n",
              "    <tr>\n",
              "      <th>3</th>\n",
              "      <td>{'modelo__C': 0.01, 'modelo__penalty': 'l2'}</td>\n",
              "      <td>10</td>\n",
              "      <td>0.611980</td>\n",
              "    </tr>\n",
              "    <tr>\n",
              "      <th>1</th>\n",
              "      <td>{'modelo__C': 0.001, 'modelo__penalty': 'l2'}</td>\n",
              "      <td>11</td>\n",
              "      <td>0.589785</td>\n",
              "    </tr>\n",
              "    <tr>\n",
              "      <th>4</th>\n",
              "      <td>{'modelo__C': 0.1, 'modelo__penalty': 'l1'}</td>\n",
              "      <td>12</td>\n",
              "      <td>0.514374</td>\n",
              "    </tr>\n",
              "    <tr>\n",
              "      <th>0</th>\n",
              "      <td>{'modelo__C': 0.001, 'modelo__penalty': 'l1'}</td>\n",
              "      <td>13</td>\n",
              "      <td>0.333935</td>\n",
              "    </tr>\n",
              "    <tr>\n",
              "      <th>2</th>\n",
              "      <td>{'modelo__C': 0.01, 'modelo__penalty': 'l1'}</td>\n",
              "      <td>13</td>\n",
              "      <td>0.333935</td>\n",
              "    </tr>\n",
              "  </tbody>\n",
              "</table>\n",
              "</div>\n",
              "      <button class=\"colab-df-convert\" onclick=\"convertToInteractive('df-f12dcac3-90c6-4d1c-868e-803c83fcecab')\"\n",
              "              title=\"Convert this dataframe to an interactive table.\"\n",
              "              style=\"display:none;\">\n",
              "        \n",
              "  <svg xmlns=\"http://www.w3.org/2000/svg\" height=\"24px\"viewBox=\"0 0 24 24\"\n",
              "       width=\"24px\">\n",
              "    <path d=\"M0 0h24v24H0V0z\" fill=\"none\"/>\n",
              "    <path d=\"M18.56 5.44l.94 2.06.94-2.06 2.06-.94-2.06-.94-.94-2.06-.94 2.06-2.06.94zm-11 1L8.5 8.5l.94-2.06 2.06-.94-2.06-.94L8.5 2.5l-.94 2.06-2.06.94zm10 10l.94 2.06.94-2.06 2.06-.94-2.06-.94-.94-2.06-.94 2.06-2.06.94z\"/><path d=\"M17.41 7.96l-1.37-1.37c-.4-.4-.92-.59-1.43-.59-.52 0-1.04.2-1.43.59L10.3 9.45l-7.72 7.72c-.78.78-.78 2.05 0 2.83L4 21.41c.39.39.9.59 1.41.59.51 0 1.02-.2 1.41-.59l7.78-7.78 2.81-2.81c.8-.78.8-2.07 0-2.86zM5.41 20L4 18.59l7.72-7.72 1.47 1.35L5.41 20z\"/>\n",
              "  </svg>\n",
              "      </button>\n",
              "      \n",
              "  <style>\n",
              "    .colab-df-container {\n",
              "      display:flex;\n",
              "      flex-wrap:wrap;\n",
              "      gap: 12px;\n",
              "    }\n",
              "\n",
              "    .colab-df-convert {\n",
              "      background-color: #E8F0FE;\n",
              "      border: none;\n",
              "      border-radius: 50%;\n",
              "      cursor: pointer;\n",
              "      display: none;\n",
              "      fill: #1967D2;\n",
              "      height: 32px;\n",
              "      padding: 0 0 0 0;\n",
              "      width: 32px;\n",
              "    }\n",
              "\n",
              "    .colab-df-convert:hover {\n",
              "      background-color: #E2EBFA;\n",
              "      box-shadow: 0px 1px 2px rgba(60, 64, 67, 0.3), 0px 1px 3px 1px rgba(60, 64, 67, 0.15);\n",
              "      fill: #174EA6;\n",
              "    }\n",
              "\n",
              "    [theme=dark] .colab-df-convert {\n",
              "      background-color: #3B4455;\n",
              "      fill: #D2E3FC;\n",
              "    }\n",
              "\n",
              "    [theme=dark] .colab-df-convert:hover {\n",
              "      background-color: #434B5C;\n",
              "      box-shadow: 0px 1px 3px 1px rgba(0, 0, 0, 0.15);\n",
              "      filter: drop-shadow(0px 1px 2px rgba(0, 0, 0, 0.3));\n",
              "      fill: #FFFFFF;\n",
              "    }\n",
              "  </style>\n",
              "\n",
              "      <script>\n",
              "        const buttonEl =\n",
              "          document.querySelector('#df-f12dcac3-90c6-4d1c-868e-803c83fcecab button.colab-df-convert');\n",
              "        buttonEl.style.display =\n",
              "          google.colab.kernel.accessAllowed ? 'block' : 'none';\n",
              "\n",
              "        async function convertToInteractive(key) {\n",
              "          const element = document.querySelector('#df-f12dcac3-90c6-4d1c-868e-803c83fcecab');\n",
              "          const dataTable =\n",
              "            await google.colab.kernel.invokeFunction('convertToInteractive',\n",
              "                                                     [key], {});\n",
              "          if (!dataTable) return;\n",
              "\n",
              "          const docLinkHtml = 'Like what you see? Visit the ' +\n",
              "            '<a target=\"_blank\" href=https://colab.research.google.com/notebooks/data_table.ipynb>data table notebook</a>'\n",
              "            + ' to learn more about interactive tables.';\n",
              "          element.innerHTML = '';\n",
              "          dataTable['output_type'] = 'display_data';\n",
              "          await google.colab.output.renderOutput(dataTable, element);\n",
              "          const docLink = document.createElement('div');\n",
              "          docLink.innerHTML = docLinkHtml;\n",
              "          element.appendChild(docLink);\n",
              "        }\n",
              "      </script>\n",
              "    </div>\n",
              "  </div>\n",
              "  "
            ],
            "text/plain": [
              "                                            params  rank_test_score  \\\n",
              "8     {'modelo__C': 10.0, 'modelo__penalty': 'l1'}                1   \n",
              "11   {'modelo__C': 100.0, 'modelo__penalty': 'l2'}                2   \n",
              "9     {'modelo__C': 10.0, 'modelo__penalty': 'l2'}                3   \n",
              "13  {'modelo__C': 1000.0, 'modelo__penalty': 'l2'}                4   \n",
              "10   {'modelo__C': 100.0, 'modelo__penalty': 'l1'}                5   \n",
              "12  {'modelo__C': 1000.0, 'modelo__penalty': 'l1'}                6   \n",
              "7      {'modelo__C': 1.0, 'modelo__penalty': 'l2'}                7   \n",
              "6      {'modelo__C': 1.0, 'modelo__penalty': 'l1'}                8   \n",
              "5      {'modelo__C': 0.1, 'modelo__penalty': 'l2'}                9   \n",
              "3     {'modelo__C': 0.01, 'modelo__penalty': 'l2'}               10   \n",
              "1    {'modelo__C': 0.001, 'modelo__penalty': 'l2'}               11   \n",
              "4      {'modelo__C': 0.1, 'modelo__penalty': 'l1'}               12   \n",
              "0    {'modelo__C': 0.001, 'modelo__penalty': 'l1'}               13   \n",
              "2     {'modelo__C': 0.01, 'modelo__penalty': 'l1'}               13   \n",
              "\n",
              "    mean_test_score  \n",
              "8          0.751639  \n",
              "11         0.751639  \n",
              "9          0.745756  \n",
              "13         0.744485  \n",
              "10         0.744084  \n",
              "12         0.741677  \n",
              "7          0.707716  \n",
              "6          0.660517  \n",
              "5          0.645875  \n",
              "3          0.611980  \n",
              "1          0.589785  \n",
              "4          0.514374  \n",
              "0          0.333935  \n",
              "2          0.333935  "
            ]
          },
          "execution_count": 43,
          "metadata": {},
          "output_type": "execute_result"
        }
      ],
      "source": [
        "df.sort_values(by='rank_test_score', inplace=True)\n",
        "df"
      ]
    },
    {
      "cell_type": "code",
      "execution_count": 44,
      "metadata": {
        "id": "HzWQQNpbZ3fT"
      },
      "outputs": [],
      "source": [
        "# salvando o relatório consolidado em excel\n",
        "df.to_excel(\"repost_logistic_regression.xlsx\")"
      ]
    }
  ],
  "metadata": {
    "colab": {
      "collapsed_sections": [
        "uwwdrMuHNhOC",
        "f61eb--VNhOC",
        "a6fQK3FcNhOD",
        "HCOG__glNhOD"
      ],
      "name": "logistic_regression_tfidf_oversampling.ipynb",
      "provenance": []
    },
    "kernelspec": {
      "display_name": "Python 3.9.6 64-bit",
      "language": "python",
      "name": "python3"
    },
    "language_info": {
      "codemirror_mode": {
        "name": "ipython",
        "version": 3
      },
      "file_extension": ".py",
      "mimetype": "text/x-python",
      "name": "python",
      "nbconvert_exporter": "python",
      "pygments_lexer": "ipython3",
      "version": "3.9.6"
    },
    "orig_nbformat": 4,
    "vscode": {
      "interpreter": {
        "hash": "a1d0fbdbe1887c898c942997191543381b923878751455246ca9d207b36a4e04"
      }
    }
  },
  "nbformat": 4,
  "nbformat_minor": 0
}
