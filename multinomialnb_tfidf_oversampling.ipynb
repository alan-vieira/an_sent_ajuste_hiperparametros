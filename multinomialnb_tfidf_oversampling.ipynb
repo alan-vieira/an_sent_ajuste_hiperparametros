{
  "cells": [
    {
      "cell_type": "markdown",
      "metadata": {
        "id": "Ke_mZ6LXs7-Y"
      },
      "source": [
        "# MultinomialNB"
      ]
    },
    {
      "cell_type": "markdown",
      "metadata": {
        "id": "I2C_WkXkESXy"
      },
      "source": [
        "## Estimando o melhor modelo do classificador para o dataset anotado tweetSentBR (sobreamostrado), com vetorizador Tfidf"
      ]
    },
    {
      "cell_type": "markdown",
      "metadata": {
        "id": "oCGXegKGESX8"
      },
      "source": [
        "### Importando bibliotecas"
      ]
    },
    {
      "cell_type": "code",
      "execution_count": null,
      "metadata": {
        "id": "MNCfayEaESX9"
      },
      "outputs": [],
      "source": [
        "import pandas as pd\n",
        "import matplotlib.pyplot as plt\n",
        "import seaborn as sns"
      ]
    },
    {
      "cell_type": "markdown",
      "metadata": {
        "id": "z9LzMrI5ESX_"
      },
      "source": [
        "### Carregando os dados para treinamento do modelo"
      ]
    },
    {
      "cell_type": "code",
      "execution_count": null,
      "metadata": {
        "id": "tw-JBjREESYA"
      },
      "outputs": [],
      "source": [
        "# carregando dataset\n",
        "tweets_df = pd.read_csv('')"
      ]
    },
    {
      "cell_type": "code",
      "execution_count": null,
      "metadata": {
        "colab": {
          "base_uri": "https://localhost:8080/",
          "height": 206
        },
        "id": "oQ-t81gDESYB",
        "outputId": "bdb92bf5-e639-4802-fd52-5df46d1e275b"
      },
      "outputs": [],
      "source": [
        "tweets_df.head()"
      ]
    },
    {
      "cell_type": "code",
      "execution_count": null,
      "metadata": {
        "colab": {
          "base_uri": "https://localhost:8080/"
        },
        "id": "xxpMKfG3ESYD",
        "outputId": "1bb230bd-a1c4-41a0-9f6e-c1f7ee485203"
      },
      "outputs": [],
      "source": [
        "tweets_df.info()"
      ]
    },
    {
      "cell_type": "code",
      "execution_count": null,
      "metadata": {
        "colab": {
          "base_uri": "https://localhost:8080/",
          "height": 206
        },
        "id": "IkF0VbWbESYF",
        "outputId": "908f6e82-ebe6-49ce-b65d-7ffb659542d4"
      },
      "outputs": [],
      "source": [
        "tweets_df.groupby(['sentiment']).count()"
      ]
    },
    {
      "cell_type": "markdown",
      "metadata": {
        "id": "SuRrkEu5ESYG"
      },
      "source": [
        "Como podemos observar, os dados estão desbalanceados e com algumas linhas apresentando a variável sentimento com o caracter traço '-'.\n",
        "\n",
        "Para melhor trabalharmos com os dados, foi decidida a remoção dessas linhas."
      ]
    },
    {
      "cell_type": "code",
      "execution_count": null,
      "metadata": {
        "id": "YuqNrebDESYG"
      },
      "outputs": [],
      "source": [
        "# removendo as linhas com a variável sentimento como traço '-'\n",
        "indexNames = tweets_df[ tweets_df['sentiment'] == '-' ].index #obtendo o valor para ajudar a remover a linha\n",
        "tweets_df.drop(indexNames , inplace=True) #removendo a linha correspondente ao valor informado"
      ]
    },
    {
      "cell_type": "code",
      "execution_count": null,
      "metadata": {
        "id": "eGlqmd5ZAC5z"
      },
      "outputs": [],
      "source": [
        "# tranformando valores para adequar a os classificadores\n",
        "tweets_df['sentiment'] = tweets_df['sentiment'].replace(['-1', '0', '1'], [3, 6, 9])\n",
        "tweets_df['sentiment'] = tweets_df['sentiment'].replace([3, 6, 9], [0, 1, 2])"
      ]
    },
    {
      "cell_type": "code",
      "execution_count": null,
      "metadata": {
        "colab": {
          "base_uri": "https://localhost:8080/",
          "height": 279
        },
        "id": "4Wsoq2w0ESYI",
        "outputId": "a0e959f5-abd7-4239-9bf3-916354fe643a"
      },
      "outputs": [],
      "source": [
        "# Visualizando os dados graficamente\n",
        "sns.countplot(x=tweets_df.sentiment)\n",
        "plt.xlabel('class label')\n",
        "plt.ylabel('number of tweets')\n",
        "plt.show()"
      ]
    },
    {
      "cell_type": "code",
      "execution_count": null,
      "metadata": {
        "colab": {
          "base_uri": "https://localhost:8080/",
          "height": 175
        },
        "id": "2vg_gM91ESYH",
        "outputId": "c7abc127-0df2-4b77-d1de-e14aaa49a78b"
      },
      "outputs": [],
      "source": [
        "tweets_df.groupby(['sentiment']).count()"
      ]
    },
    {
      "cell_type": "markdown",
      "metadata": {
        "id": "Hgc2u8ACESYI"
      },
      "source": [
        "## Efetuando a limpeza dos dados"
      ]
    },
    {
      "cell_type": "code",
      "execution_count": null,
      "metadata": {
        "id": "hZ5VH9fxNhN_"
      },
      "outputs": [],
      "source": [
        "# removendo as palavras USERNAME e NUMBER\n",
        "tweets_df['text_clean'] = tweets_df['text'].str.replace('USERNAME', '').str.replace('NUMBER', '')"
      ]
    },
    {
      "cell_type": "code",
      "execution_count": null,
      "metadata": {
        "colab": {
          "base_uri": "https://localhost:8080/"
        },
        "id": "XoG2I9f2NhN_",
        "outputId": "930304a6-5140-4e71-9674-3279b32cd130"
      },
      "outputs": [],
      "source": [
        "!python -m nltk.downloader stopwords"
      ]
    },
    {
      "cell_type": "code",
      "execution_count": null,
      "metadata": {
        "id": "zqqoKNrAESYI"
      },
      "outputs": [],
      "source": [
        "# importando a biblioteca de processamento de linguagen natural e a de expreções regulares (regex)\n",
        "import nltk\n",
        "import re\n",
        "\n",
        "# usando as funções stopword e remover os caracteres indesejados\n",
        "def Preprocessing(instancia):\n",
        "    instancia = re.sub(r\"http\\S+\", \"\", instancia).lower() # remove url e tranforma o texto em minusculo\n",
        "    instancia = re.sub(r'[0-9]+', '', instancia) # remove números\n",
        "    instancia = re.sub(r'[^\\w\\s]','', instancia) # remove pontuação\n",
        "    instancia = re.sub('[!#$%^&*()]', '', instancia) #remove caractéres espaciais\n",
        "    stopwords = set(nltk.corpus.stopwords.words('portuguese'))\n",
        "    palavras = [i for i in instancia.split() if not i in stopwords]\n",
        "    return (\" \".join(palavras))"
      ]
    },
    {
      "cell_type": "code",
      "execution_count": null,
      "metadata": {
        "id": "iras9_2FNhOA"
      },
      "outputs": [],
      "source": [
        "# remover emojis utilizado regex (re)\n",
        "def remove_emoji(string):\n",
        "    emoji_pattern = re.compile(\"[\"\n",
        "                               u\"\\U0001F600-\\U0001F64F\"  # emoticons\n",
        "                               u\"\\U0001F300-\\U0001F5FF\"  # symbols & pictographs\n",
        "                               u\"\\U0001F680-\\U0001F6FF\"  # transport & map symbols\n",
        "                               u\"\\U0001F1E0-\\U0001F1FF\"  # flags (iOS)\n",
        "                               u\"\\U00002500-\\U00002BEF\"  # chinese char\n",
        "                               u\"\\U00002702-\\U000027B0\"\n",
        "                               u\"\\U00002702-\\U000027B0\"\n",
        "                               u\"\\U000024C2-\\U0001F251\"\n",
        "                               u\"\\U0001f926-\\U0001f937\"\n",
        "                               u\"\\U00010000-\\U0010ffff\"\n",
        "                               u\"\\u2640-\\u2642\"\n",
        "                               u\"\\u2600-\\u2B55\"\n",
        "                               u\"\\u200d\"\n",
        "                               u\"\\u23cf\"\n",
        "                               u\"\\u23e9\"\n",
        "                               u\"\\u231a\"\n",
        "                               u\"\\ufe0f\"  # dingbats\n",
        "                               u\"\\u3030\"\n",
        "                               \"]+\", flags=re.UNICODE)\n",
        "    return emoji_pattern.sub(r'', string)"
      ]
    },
    {
      "cell_type": "code",
      "execution_count": null,
      "metadata": {
        "colab": {
          "base_uri": "https://localhost:8080/",
          "height": 372
        },
        "id": "MBN9guuHESYJ",
        "outputId": "4b34a3ec-4025-4bd5-cec8-f890d0082405"
      },
      "outputs": [],
      "source": [
        "# aplicando a função de limpeza de dados:\n",
        "tweets_df['text_clean'] = [Preprocessing(i) for i in tweets_df['text_clean']]\n",
        "tweets_df['text_clean'] = [remove_emoji(i) for i in tweets_df['text_clean']]\n",
        "pd.set_option('display.max_colwidth', None) \n",
        "\n",
        "tweets_df.head()"
      ]
    },
    {
      "cell_type": "markdown",
      "metadata": {
        "id": "jEohQ0VfAjyV"
      },
      "source": [
        "# Lematização"
      ]
    },
    {
      "cell_type": "code",
      "execution_count": null,
      "metadata": {
        "colab": {
          "base_uri": "https://localhost:8080/"
        },
        "id": "jLJa8dxfAk6Z",
        "outputId": "8935099f-4dcd-4456-b698-5319bd6d2156"
      },
      "outputs": [],
      "source": [
        "!pip install -U pip setuptools wheel\n",
        "!pip install -U spacy\n",
        "!python -m spacy download pt_core_news_sm"
      ]
    },
    {
      "cell_type": "code",
      "execution_count": null,
      "metadata": {
        "id": "bZSYKCnDApH9"
      },
      "outputs": [],
      "source": [
        "import spacy\n",
        "nlp = spacy.load('pt_core_news_sm')"
      ]
    },
    {
      "cell_type": "code",
      "execution_count": null,
      "metadata": {
        "id": "lwqCztW6AtB1"
      },
      "outputs": [],
      "source": [
        "tweets_df['text_lemma'] = tweets_df['text_clean'].apply(lambda row: \" \".join([w.lemma_ for w in nlp(row)]))\n",
        "tweets_df['text_lemma'] = [Preprocessing(i) for i in tweets_df['text_lemma']]\n",
        "tweets_df.head()"
      ]
    },
    {
      "cell_type": "markdown",
      "metadata": {
        "id": "DAjcAKaJAzRw"
      },
      "source": [
        "## Lematização (outra forma)"
      ]
    },
    {
      "cell_type": "code",
      "execution_count": null,
      "metadata": {
        "id": "DUYyh8IGA0j_"
      },
      "outputs": [],
      "source": [
        "!pip install simplemma"
      ]
    },
    {
      "cell_type": "code",
      "execution_count": null,
      "metadata": {
        "id": "iWtg7C8lA4MO"
      },
      "outputs": [],
      "source": [
        "import simplemma\n",
        "from simplemma import text_lemmatizer"
      ]
    },
    {
      "cell_type": "code",
      "execution_count": null,
      "metadata": {
        "id": "Q_yLQbYOA66U"
      },
      "outputs": [],
      "source": [
        "# teste\n",
        "teste_lemma = text_lemmatizer('Sou o intervalo entre o que desejo ser e os outros me fizeram.', lang='pt')\n",
        "teste_lemma"
      ]
    },
    {
      "cell_type": "code",
      "execution_count": null,
      "metadata": {
        "id": "3utn--JOA9mm"
      },
      "outputs": [],
      "source": [
        "tweets_df['text_lemma_2'] = [text_lemmatizer(linha, lang='pt') for linha in tweets_df['text_clean']] #lematizando o texto\n",
        "tweets_df['text_lemma_2'] = [' '.join(palavra) for palavra in tweets_df['text_lemma_2']] #juntando o texto novamente\n",
        "tweets_df.head()"
      ]
    },
    {
      "cell_type": "markdown",
      "metadata": {
        "id": "uwwdrMuHNhOC"
      },
      "source": [
        "## Trabalhando no equilibrio dos dados"
      ]
    },
    {
      "cell_type": "markdown",
      "metadata": {
        "id": "f61eb--VNhOC"
      },
      "source": [
        "### Iniciando o trabalho de balanceamento dos dados"
      ]
    },
    {
      "cell_type": "code",
      "execution_count": null,
      "metadata": {
        "id": "y6dR6P1MNhOC"
      },
      "outputs": [],
      "source": [
        "minoria = tweets_df.loc[tweets_df['sentiment'] == 0]\n",
        "meio = tweets_df.loc[tweets_df['sentiment'] == 1]\n",
        "maioria = tweets_df.loc[tweets_df['sentiment'] == 2]"
      ]
    },
    {
      "cell_type": "code",
      "execution_count": null,
      "metadata": {
        "colab": {
          "base_uri": "https://localhost:8080/"
        },
        "id": "gUW-Ev9dNhOD",
        "outputId": "20582b88-c2f6-408e-e0f6-4a9966ac89dc"
      },
      "outputs": [],
      "source": [
        "print('Maioria \\n{}\\n'.format(maioria['sentiment'].count()))\n",
        "print('Meio \\n{}\\n'.format(meio['sentiment'].count()))\n",
        "print('Minoria \\n{}'.format(minoria['sentiment'].count()))"
      ]
    },
    {
      "cell_type": "markdown",
      "metadata": {
        "id": "a6fQK3FcNhOD"
      },
      "source": [
        "## Igualar a quantidade de tweets entre positivo, negativo e neutro"
      ]
    },
    {
      "cell_type": "markdown",
      "metadata": {
        "id": "HCOG__glNhOD"
      },
      "source": [
        "#### Oversampling (Criando datasets reorganizados para maioria)"
      ]
    },
    {
      "cell_type": "code",
      "execution_count": null,
      "metadata": {
        "id": "7cDATKqHNhOD"
      },
      "outputs": [],
      "source": [
        "from sklearn.utils import resample\n",
        "\n",
        "menor_maior = resample(minoria, replace=True, n_samples=len(maioria), random_state=123)\n",
        "meio_maior = resample(meio, replace=True, n_samples=len(maioria), random_state=123)"
      ]
    },
    {
      "cell_type": "code",
      "execution_count": null,
      "metadata": {
        "colab": {
          "base_uri": "https://localhost:8080/"
        },
        "id": "lpBMeffwNhOE",
        "outputId": "edbee2a6-f39a-420b-a084-444ceeeaf9d6"
      },
      "outputs": [],
      "source": [
        "print(menor_maior.count(), meio_maior.count(), maioria.count())"
      ]
    },
    {
      "cell_type": "code",
      "execution_count": null,
      "metadata": {
        "id": "o5v6ofKtNhOE"
      },
      "outputs": [],
      "source": [
        "# juntando os dataframes\n",
        "tweets_df_equilibrado_maior = pd.concat([menor_maior, meio_maior, maioria])\n",
        "\n",
        "# resetando o index\n",
        "tweets_df_equilibrado_maior = tweets_df_equilibrado_maior.reset_index()\n",
        "\n",
        "# removendo as colunas Unnamed: 0 e index\n",
        "tweets_df_equilibrado_maior.drop(columns=['index'], inplace=True)"
      ]
    },
    {
      "cell_type": "code",
      "execution_count": null,
      "metadata": {
        "colab": {
          "base_uri": "https://localhost:8080/",
          "height": 0
        },
        "id": "YjkKlJTXNhOE",
        "outputId": "5e366ce0-9171-4d76-f463-5f56b4012fd7"
      },
      "outputs": [],
      "source": [
        "tweets_df_equilibrado_maior.groupby(['sentiment']).count()"
      ]
    },
    {
      "cell_type": "markdown",
      "metadata": {
        "id": "7E5qF6W9ESYP"
      },
      "source": [
        "# Machine Learning - Utils"
      ]
    },
    {
      "cell_type": "code",
      "execution_count": null,
      "metadata": {
        "id": "EC1iyGUYESYP"
      },
      "outputs": [],
      "source": [
        "from sklearn.model_selection import train_test_split\n",
        "from sklearn.pipeline import Pipeline\n",
        "\n",
        "# Vetorizadores\n",
        "from sklearn.feature_extraction.text import TfidfVectorizer\n",
        "\n",
        "# Classificadores\n",
        "from sklearn.naive_bayes import MultinomialNB"
      ]
    },
    {
      "cell_type": "code",
      "execution_count": null,
      "metadata": {
        "id": "ZeNfdhtRLbHy"
      },
      "outputs": [],
      "source": [
        "# Tokenização especial para tweets\n",
        "from nltk.tokenize import TweetTokenizer\n",
        "\n",
        "tweet_tokenizer = TweetTokenizer()"
      ]
    },
    {
      "cell_type": "markdown",
      "metadata": {
        "id": "mAhiDgIrESYR"
      },
      "source": [
        "# Machine Learning - Construindo modelo com dados oversampling"
      ]
    },
    {
      "cell_type": "code",
      "execution_count": null,
      "metadata": {
        "id": "xATS-5-gESYR"
      },
      "outputs": [],
      "source": [
        "X = tweets_df_equilibrado_maior['text_lemma_2']\n",
        "y = tweets_df_equilibrado_maior['sentiment']"
      ]
    },
    {
      "cell_type": "code",
      "execution_count": null,
      "metadata": {
        "colab": {
          "base_uri": "https://localhost:8080/"
        },
        "id": "ZtC2rc4Aknwz",
        "outputId": "d6d3ca9a-2e05-4f6e-ee4b-bee5352b117b"
      },
      "outputs": [],
      "source": [
        "X.shape, y.shape"
      ]
    },
    {
      "cell_type": "markdown",
      "metadata": {
        "id": "GZs4RIN1ksHH"
      },
      "source": [
        "### Separando dados para o treino e para o teste"
      ]
    },
    {
      "cell_type": "code",
      "execution_count": null,
      "metadata": {
        "colab": {
          "base_uri": "https://localhost:8080/"
        },
        "id": "GWT0HMp4ks0F",
        "outputId": "8c3dd157-e6e6-4e73-9eca-d5d876529ef2"
      },
      "outputs": [],
      "source": [
        "X_train, X_test, y_train, y_test = train_test_split(X, y, test_size=0.25, random_state=123)\n",
        "X_train.shape, y_train.shape, X_test.shape, y_test.shape"
      ]
    },
    {
      "cell_type": "code",
      "execution_count": null,
      "metadata": {
        "id": "MIBvr6cJbzyd"
      },
      "outputs": [],
      "source": [
        "#parameters = {'modelo__alpha': (0.01, 0.1, 0.5, 1.0, 10.0)}\n",
        "parameters = {'modelo__alpha': [1, 0.1, 0.01, 0.001, 0.0001, 0.00001]}"
      ]
    },
    {
      "cell_type": "code",
      "execution_count": null,
      "metadata": {
        "id": "XLCJh1Otddsj"
      },
      "outputs": [],
      "source": [
        "modelo = Pipeline(steps=[\n",
        "             ('vectorizer' , TfidfVectorizer(analyzer=\"word\", tokenizer=tweet_tokenizer.tokenize)),\n",
        "            ('modelo', MultinomialNB())\n",
        "            ])"
      ]
    },
    {
      "cell_type": "code",
      "execution_count": null,
      "metadata": {
        "colab": {
          "base_uri": "https://localhost:8080/"
        },
        "id": "hTC0iGth-rTC",
        "outputId": "bb9ed327-3211-4ff7-fbf7-0c0776ffab8e"
      },
      "outputs": [],
      "source": [
        "!pip install searchgrid"
      ]
    },
    {
      "cell_type": "code",
      "execution_count": null,
      "metadata": {
        "id": "gWQGvl6n_XPk"
      },
      "outputs": [],
      "source": [
        "from sklearn.model_selection import GridSearchCV\n",
        "\n",
        "clf = GridSearchCV(modelo, parameters, refit = 'accuracy', verbose=3)\n",
        "clf.fit(X_train, y_train).best_score_"
      ]
    },
    {
      "cell_type": "code",
      "execution_count": null,
      "metadata": {
        "id": "ibuyGVOnqTPX"
      },
      "outputs": [],
      "source": [
        "# Imprime colunas de interesse.\n",
        "df = pd.DataFrame(clf.cv_results_)[['params','rank_test_score','mean_test_score']]"
      ]
    },
    {
      "cell_type": "code",
      "execution_count": null,
      "metadata": {
        "colab": {
          "base_uri": "https://localhost:8080/",
          "height": 238
        },
        "id": "Y_JHQNW9Yf4n",
        "outputId": "cca10664-bd9d-4896-ca67-1baca2973e9c"
      },
      "outputs": [],
      "source": [
        "df.sort_values(by='rank_test_score', inplace=True)\n",
        "df"
      ]
    },
    {
      "cell_type": "code",
      "execution_count": null,
      "metadata": {
        "id": "0cxM7VxvhQvh"
      },
      "outputs": [],
      "source": [
        "# salvando o relatório consolidado em excel\n",
        "df.to_excel(\"repost_multinomialnb.xlsx\")"
      ]
    }
  ],
  "metadata": {
    "colab": {
      "collapsed_sections": [
        "uwwdrMuHNhOC",
        "f61eb--VNhOC",
        "a6fQK3FcNhOD",
        "HCOG__glNhOD"
      ],
      "name": "multinomialnb_tfidf_oversampling.ipynb",
      "provenance": []
    },
    "kernelspec": {
      "display_name": "Python 3.9.6 64-bit",
      "language": "python",
      "name": "python3"
    },
    "language_info": {
      "codemirror_mode": {
        "name": "ipython",
        "version": 3
      },
      "file_extension": ".py",
      "mimetype": "text/x-python",
      "name": "python",
      "nbconvert_exporter": "python",
      "pygments_lexer": "ipython3",
      "version": "3.9.6"
    },
    "orig_nbformat": 4,
    "vscode": {
      "interpreter": {
        "hash": "a1d0fbdbe1887c898c942997191543381b923878751455246ca9d207b36a4e04"
      }
    }
  },
  "nbformat": 4,
  "nbformat_minor": 0
}
